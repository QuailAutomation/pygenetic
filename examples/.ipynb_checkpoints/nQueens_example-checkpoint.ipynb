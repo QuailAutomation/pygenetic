{
 "cells": [
  {
   "cell_type": "markdown",
   "metadata": {},
   "source": [
    "# Usage of PyGenetic to solve N-Queens"
   ]
  },
  {
   "cell_type": "code",
   "execution_count": 5,
   "metadata": {
    "collapsed": true
   },
   "outputs": [],
   "source": [
    "import sys \n",
    "sys.path.append('../pyGenetic/')\n",
    "\n",
    "import GAEngine, ChromosomeFactory, Utils,Statistics\n",
    "import matplotlib.pyplot as plt\n"
   ]
  },
  {
   "cell_type": "markdown",
   "metadata": {},
   "source": [
    "### Fitness function for n Queens\n",
    "- Higher fitness value corresponds to higher number of queens safely placed on board"
   ]
  },
  {
   "cell_type": "code",
   "execution_count": 6,
   "metadata": {
    "collapsed": false,
    "scrolled": true
   },
   "outputs": [],
   "source": [
    "def fitness(board):\n",
    "\t\tfitness = 0\n",
    "\t\tfor i in range(len(board)):\n",
    "\t\t\tisSafe = True\n",
    "\t\t\tfor j in range(len(board)):\n",
    "\t\t\t\tif i!=j:\n",
    "\t\t\t\t\tif (board[i] == board[j]) or (abs(board[i] - board[j]) == abs(i-j)):\n",
    "\t\t\t\t\t\tisSafe = False\n",
    "\t\t\t\t\t\tbreak\n",
    "\t\t\tif(isSafe==True):\n",
    "\t\t\t\tfitness += 1\n",
    "\t\treturn fitness\n",
    "\n",
    "    \n"
   ]
  },
  {
   "cell_type": "markdown",
   "metadata": {},
   "source": [
    "### Usage of modules from pygenetic to solve the nqueens\n",
    "- ChromosomeRangeFactory generates the initial population of candidate solutions\n",
    "- Here the noOfGenes are 14 corresponding to the 14 by 14 dimensions of chess board\n",
    "- GAEngine is the main driver class that calls the operations necessary\n",
    "- In below case the population size for each iteration is 100"
   ]
  },
  {
   "cell_type": "code",
   "execution_count": 7,
   "metadata": {
    "collapsed": false,
    "scrolled": true
   },
   "outputs": [
    {
     "name": "stdout",
     "output_type": "stream",
     "text": [
      "First men =  [[13, 7, 10, 8, 11, 6, 5, 12, 1, 9, 14, 3, 2, 4], [13, 4, 11, 7, 12, 8, 1, 9, 6, 5, 3, 10, 2, 14], [10, 2, 6, 8, 5, 1, 14, 3, 4, 11, 7, 13, 12, 9], [10, 7, 3, 8, 12, 1, 9, 13, 2, 11, 4, 14, 5, 6], [14, 2, 4, 3, 5, 12, 1, 10, 11, 6, 13, 9, 8, 7], [12, 1, 2, 11, 8, 14, 3, 7, 6, 4, 13, 5, 9, 10], [2, 4, 13, 1, 9, 6, 8, 10, 7, 3, 5, 11, 12, 14], [11, 6, 10, 2, 5, 14, 8, 4, 1, 3, 7, 9, 13, 12], [7, 12, 10, 11, 14, 1, 5, 2, 3, 8, 13, 6, 4, 9], [4, 10, 14, 11, 13, 3, 2, 5, 7, 6, 9, 1, 12, 8], [1, 13, 11, 7, 8, 2, 5, 4, 14, 3, 6, 9, 10, 12], [5, 1, 9, 14, 7, 2, 6, 3, 13, 12, 11, 10, 4, 8], [11, 5, 7, 14, 6, 13, 8, 1, 3, 12, 10, 4, 2, 9], [1, 5, 11, 13, 10, 6, 4, 12, 2, 3, 9, 7, 8, 14], [4, 6, 13, 8, 11, 12, 1, 2, 10, 5, 3, 7, 9, 14], [9, 13, 12, 4, 2, 11, 6, 7, 8, 14, 3, 5, 1, 10], [6, 13, 3, 4, 10, 12, 2, 14, 9, 7, 5, 1, 11, 8], [11, 12, 10, 6, 4, 14, 7, 5, 1, 2, 13, 9, 8, 3], [6, 12, 9, 5, 3, 10, 8, 11, 1, 4, 7, 2, 14, 13], [13, 11, 14, 2, 6, 8, 9, 5, 1, 10, 12, 7, 3, 4], [1, 13, 6, 12, 3, 11, 5, 2, 8, 7, 4, 10, 9, 14], [4, 3, 12, 1, 11, 5, 10, 8, 9, 13, 6, 14, 2, 7], [9, 10, 2, 7, 13, 12, 14, 6, 11, 4, 3, 1, 5, 8], [5, 1, 13, 12, 14, 10, 4, 8, 7, 6, 11, 3, 9, 2], [4, 11, 3, 13, 14, 5, 6, 2, 1, 8, 10, 12, 7, 9], [13, 5, 9, 12, 1, 7, 8, 11, 6, 3, 14, 10, 2, 4], [4, 3, 2, 1, 10, 6, 7, 14, 11, 5, 13, 9, 12, 8], [1, 6, 9, 2, 3, 14, 13, 5, 11, 8, 7, 4, 12, 10], [2, 4, 13, 1, 12, 8, 11, 6, 5, 10, 3, 9, 14, 7], [11, 14, 1, 4, 9, 12, 10, 13, 3, 2, 5, 7, 6, 8], [11, 12, 6, 10, 2, 7, 13, 1, 5, 3, 4, 14, 9, 8], [10, 1, 6, 2, 13, 12, 8, 4, 7, 11, 9, 14, 5, 3], [9, 12, 13, 8, 3, 2, 10, 7, 4, 5, 1, 14, 6, 11], [5, 1, 2, 12, 3, 6, 10, 8, 9, 11, 4, 14, 7, 13], [12, 2, 8, 3, 6, 5, 9, 4, 14, 13, 1, 7, 11, 10], [8, 10, 13, 14, 12, 6, 4, 1, 11, 9, 3, 5, 2, 7], [7, 1, 10, 9, 4, 13, 5, 6, 8, 11, 12, 3, 14, 2], [7, 13, 5, 8, 10, 9, 4, 1, 2, 6, 11, 14, 12, 3], [7, 9, 6, 12, 13, 1, 10, 3, 4, 8, 2, 5, 11, 14], [5, 4, 14, 7, 1, 12, 8, 6, 3, 9, 10, 13, 2, 11], [7, 3, 9, 12, 6, 11, 4, 5, 1, 2, 8, 14, 13, 10], [11, 9, 10, 12, 6, 7, 2, 13, 4, 8, 1, 14, 3, 5], [9, 3, 7, 6, 10, 4, 1, 12, 8, 5, 2, 14, 13, 11], [12, 8, 1, 14, 3, 11, 2, 5, 9, 7, 10, 4, 13, 6], [3, 12, 4, 6, 8, 7, 1, 5, 11, 14, 9, 13, 2, 10], [4, 11, 7, 2, 14, 9, 1, 3, 13, 6, 12, 5, 8, 10], [14, 8, 11, 9, 7, 5, 1, 13, 10, 4, 3, 12, 6, 2], [10, 9, 1, 7, 14, 2, 4, 12, 6, 8, 3, 13, 5, 11], [13, 2, 6, 11, 5, 4, 7, 14, 10, 3, 12, 8, 1, 9], [3, 7, 10, 11, 1, 12, 9, 13, 2, 4, 6, 5, 8, 14], [1, 11, 10, 9, 3, 5, 7, 12, 13, 4, 14, 6, 8, 2], [8, 13, 14, 1, 2, 7, 6, 4, 10, 5, 3, 11, 9, 12], [5, 1, 3, 9, 6, 2, 8, 10, 12, 13, 14, 11, 4, 7], [2, 8, 10, 11, 5, 1, 12, 7, 13, 3, 4, 6, 14, 9], [1, 12, 9, 4, 6, 14, 10, 3, 7, 13, 11, 2, 5, 8], [14, 11, 9, 3, 6, 5, 4, 7, 12, 10, 13, 1, 2, 8], [10, 11, 12, 1, 4, 3, 9, 13, 5, 14, 2, 6, 7, 8], [7, 8, 4, 11, 9, 12, 1, 5, 2, 3, 10, 14, 13, 6], [10, 5, 2, 4, 9, 1, 3, 14, 7, 13, 12, 11, 8, 6], [14, 9, 4, 12, 7, 13, 5, 2, 1, 8, 10, 3, 11, 6], [5, 11, 8, 7, 13, 4, 3, 10, 14, 2, 6, 1, 9, 12], [9, 12, 1, 11, 13, 2, 7, 4, 5, 6, 3, 10, 8, 14], [9, 14, 13, 10, 6, 1, 3, 5, 4, 12, 7, 8, 11, 2], [14, 11, 5, 8, 7, 6, 1, 3, 13, 9, 2, 4, 12, 10], [12, 5, 10, 7, 14, 6, 8, 11, 2, 1, 9, 3, 13, 4], [5, 11, 6, 3, 8, 14, 10, 12, 2, 4, 13, 9, 1, 7], [2, 7, 13, 9, 1, 11, 4, 12, 5, 14, 10, 3, 8, 6], [8, 10, 6, 11, 1, 9, 14, 2, 12, 4, 5, 13, 7, 3], [10, 4, 14, 5, 7, 12, 6, 1, 2, 11, 9, 3, 8, 13], [9, 11, 7, 2, 14, 4, 10, 13, 12, 5, 8, 3, 6, 1], [2, 1, 14, 3, 10, 13, 11, 7, 5, 4, 9, 6, 12, 8], [11, 1, 4, 6, 10, 8, 9, 2, 14, 7, 13, 12, 3, 5], [11, 2, 9, 3, 5, 14, 10, 8, 12, 13, 1, 7, 6, 4], [11, 13, 14, 6, 5, 1, 9, 2, 10, 3, 7, 4, 8, 12], [11, 12, 8, 7, 14, 5, 3, 6, 10, 2, 4, 9, 13, 1], [5, 13, 6, 2, 9, 8, 4, 1, 12, 11, 14, 3, 7, 10], [10, 9, 5, 6, 12, 13, 1, 4, 7, 8, 2, 11, 3, 14], [6, 7, 9, 4, 2, 1, 12, 5, 10, 11, 8, 3, 13, 14], [9, 10, 7, 2, 1, 8, 6, 11, 13, 14, 3, 5, 12, 4], [6, 7, 12, 3, 2, 11, 5, 4, 9, 10, 14, 1, 8, 13], [12, 2, 6, 8, 10, 1, 4, 11, 13, 5, 14, 9, 3, 7], [12, 8, 3, 2, 1, 13, 5, 7, 11, 9, 10, 6, 14, 4], [8, 11, 10, 6, 12, 5, 2, 1, 14, 9, 13, 4, 3, 7], [5, 3, 14, 2, 7, 4, 9, 6, 1, 10, 13, 8, 12, 11], [7, 10, 6, 1, 4, 9, 8, 14, 2, 12, 5, 11, 13, 3], [8, 4, 7, 11, 1, 12, 6, 13, 9, 5, 14, 3, 2, 10], [4, 1, 3, 10, 2, 12, 13, 9, 6, 11, 14, 7, 5, 8], [12, 11, 8, 14, 10, 6, 7, 4, 2, 5, 9, 3, 1, 13], [4, 5, 1, 6, 3, 13, 2, 11, 10, 8, 7, 12, 14, 9], [8, 9, 10, 7, 5, 12, 4, 14, 11, 1, 3, 6, 2, 13], [10, 4, 9, 6, 13, 7, 2, 12, 8, 5, 11, 14, 1, 3], [5, 9, 13, 12, 11, 14, 8, 6, 10, 1, 2, 7, 4, 3], [14, 12, 8, 6, 13, 11, 4, 9, 7, 1, 10, 2, 5, 3], [6, 10, 8, 7, 4, 1, 3, 12, 2, 14, 9, 11, 5, 13], [6, 3, 5, 13, 7, 11, 9, 4, 2, 1, 8, 10, 14, 12], [12, 3, 10, 9, 6, 8, 11, 4, 5, 1, 7, 14, 13, 2], [11, 5, 7, 1, 12, 3, 4, 6, 2, 10, 8, 9, 14, 13], [4, 1, 6, 3, 8, 7, 14, 2, 12, 11, 10, 9, 13, 5], [5, 12, 4, 8, 13, 6, 2, 11, 1, 10, 9, 7, 3, 14], [4, 12, 9, 13, 11, 8, 7, 6, 14, 2, 10, 5, 1, 3]]\n"
     ]
    }
   ],
   "source": [
    "factory = ChromosomeFactory.ChromosomeRangeFactory(14,1,15)\n",
    "ga = GAEngine.GAEngine(factory,100,fitness_type=('equal',14),mut_prob = 0.3)\n",
    "#ga.addCrossoverHandler(Utils.CrossoverHandlers.PMX, 9)\n",
    "\n",
    "\n"
   ]
  },
  {
   "cell_type": "markdown",
   "metadata": {},
   "source": [
    "- The functions for performing crossover , mutation, selection and fitness function are present in Utils.py module as static methods \n",
    "- Here we register the specific operations to be used by GAEngine "
   ]
  },
  {
   "cell_type": "code",
   "execution_count": null,
   "metadata": {
    "collapsed": true
   },
   "outputs": [],
   "source": [
    "ga.addCrossoverHandler(Utils.CrossoverHandlers.distinct, 4)\n",
    "#ga.addCrossoverHandler(Utils.CrossoverHandlers.OX, 3)\n",
    "ga.addMutationHandler(Utils.MutationHandlers.swap)\n",
    "\n",
    "ga.setSelectionHandler(Utils.SelectionHandlers.best)\n",
    "ga.setFitnessHandler(fitness)\n",
    "\n",
    "ga.evolve(100)\n"
   ]
  },
  {
   "cell_type": "code",
   "execution_count": null,
   "metadata": {
    "collapsed": true
   },
   "outputs": [],
   "source": [
    "fig = ga.statistics.plot_statistics(['best','worst','avg'])\n",
    "plt.show()\n",
    "fig = ga.statistics.plot_statistics(['diversity','mutation_rate'])\n",
    "plt.show()"
   ]
  }
 ],
 "metadata": {
  "anaconda-cloud": {},
  "kernelspec": {
   "display_name": "Python [default]",
   "language": "python",
   "name": "python3"
  },
  "language_info": {
   "codemirror_mode": {
    "name": "ipython",
    "version": 3
   },
   "file_extension": ".py",
   "mimetype": "text/x-python",
   "name": "python",
   "nbconvert_exporter": "python",
   "pygments_lexer": "ipython3",
   "version": "3.5.2"
  }
 },
 "nbformat": 4,
 "nbformat_minor": 1
}
