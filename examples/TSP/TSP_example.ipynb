{
 "cells": [
  {
   "cell_type": "markdown",
   "metadata": {},
   "source": [
    "# Solving TSP using pygenetic\n",
    "\n",
    "In this example we are going to walk through the usage of GAEngine to solve the TSP problem \n",
    "The objective would be to find shortest path distance covering all places\n",
    "<b>Each permutation of places represents a potential candidate solution for the problem</b>\n"
   ]
  },
  {
   "cell_type": "markdown",
   "metadata": {},
   "source": [
    "## 1. Chromosome Representation"
   ]
  },
  {
   "cell_type": "markdown",
   "metadata": {},
   "source": [
    "Each chromosome is encoded as a permutation of the places"
   ]
  },
  {
   "cell_type": "markdown",
   "metadata": {},
   "source": [
    "This can be easily achieved by using the `RangeFactory` of `pygenetic`. <br/>\n",
    "The `RangeFactory` takes the following parameters\n",
    "* minValue = minimum value a gene can take = 0 <br/>\n",
    "* maxValue = minimum value a gene can take = 7 <br/>\n",
    "* duplicates = if duplicates are allowed = False <br/>\n",
    "* noOfGenes = number of genes in the chromosome = 8"
   ]
  },
  {
   "cell_type": "code",
   "execution_count": 49,
   "metadata": {
    "collapsed": false
   },
   "outputs": [],
   "source": [
    "from pygenetic import ChromosomeFactory\n",
    "\n",
    "factory = ChromosomeFactory.ChromosomeRangeFactory(noOfGenes=8,minValue=0,maxValue=7)"
   ]
  },
  {
   "cell_type": "markdown",
   "metadata": {},
   "source": [
    "You can also check if the factory works as expected by calling `createChromosome` function and observing the chromosome produced by the factory"
   ]
  },
  {
   "cell_type": "code",
   "execution_count": 50,
   "metadata": {
    "collapsed": false
   },
   "outputs": [
    {
     "name": "stdout",
     "output_type": "stream",
     "text": [
      "Chromosome created:  [4, 7, 1, 2, 0, 3, 5, 6]\n",
      "Chromosome created:  [3, 6, 0, 7, 5, 1, 2, 4]\n",
      "Chromosome created:  [7, 6, 0, 5, 2, 1, 3, 4]\n",
      "Chromosome created:  [7, 6, 1, 2, 5, 3, 0, 4]\n",
      "Chromosome created:  [7, 6, 1, 2, 0, 5, 4, 3]\n"
     ]
    }
   ],
   "source": [
    "# Code to test if factory works as expected\n",
    "for i in range(5):\n",
    "    print('Chromosome created: ', factory.createChromosome())"
   ]
  },
  {
   "cell_type": "markdown",
   "metadata": {},
   "source": [
    "### Sample input matrix for TSP problem"
   ]
  },
  {
   "cell_type": "code",
   "execution_count": 51,
   "metadata": {
    "collapsed": true
   },
   "outputs": [],
   "source": [
    "matrix = [[0,172,145,607,329,72,312,120],\n",
    "          [172,0,192,494,209,158,216,92],\n",
    "          [145,192,0,490,237,75,205,100],\n",
    "          [607,494,490,0,286,545,296,489],\n",
    "          [329,209,237,286,0,421,49,208],\n",
    "          [72,158,75,545,421,0,249,75],\n",
    "          [312,216,205,296,49,249,9,194],\n",
    "          [120,92,100,489,208,75,194,0]]"
   ]
  },
  {
   "cell_type": "markdown",
   "metadata": {},
   "source": [
    "## 2. Fitness function \n",
    "Fitness for a given chromosome is to minimize the distance travelled while covering all places. Hence, we have a minimization GA problem.\n"
   ]
  },
  {
   "cell_type": "code",
   "execution_count": 52,
   "metadata": {
    "collapsed": true
   },
   "outputs": [],
   "source": [
    "def fitness(chromosome, matrix):\n",
    "\t\ttotal = 0\n",
    "\t\tfor i in range(len(chromosome)-1):\n",
    "\t\t\ttotal += matrix[chromosome[i]][chromosome[i+1]]\n",
    "\t\treturn total\n"
   ]
  },
  {
   "cell_type": "markdown",
   "metadata": {},
   "source": [
    "We need then create a `GAEngine` instance from the `pygenetic` package and set the following\n",
    "* `factory` = the range factory instance we had intially created\n",
    "* `population_size = 500` would be a good number for this problem\n",
    "* `cross_prob = 0.8`\n",
    "* `mut_prob = 0.2`\n",
    "* `fitness_type = ('min', 10)` since our objective in this GA is to achieve the fitness value of 10"
   ]
  },
  {
   "cell_type": "code",
   "execution_count": 55,
   "metadata": {
    "collapsed": false
   },
   "outputs": [],
   "source": [
    "from pygenetic import GAEngine, Utils\n",
    "ga = GAEngine.GAEngine(factory,10,fitness_type='min',mut_prob = 0.02)"
   ]
  },
  {
   "cell_type": "markdown",
   "metadata": {},
   "source": [
    "We can now add the fitness function we had defined to this `GAEngine` instance"
   ]
  },
  {
   "cell_type": "code",
   "execution_count": 56,
   "metadata": {
    "collapsed": false
   },
   "outputs": [],
   "source": [
    "ga.setFitnessHandler(fitness, matrix)"
   ]
  },
  {
   "cell_type": "markdown",
   "metadata": {},
   "source": [
    "## 3. Determing other attributes of the GA"
   ]
  },
  {
   "cell_type": "markdown",
   "metadata": {
    "collapsed": false
   },
   "source": [
    "Many Standard Crossover, Mutation, Selection and Fitness functions are present in the `Utils` module of the `pygenetic` package."
   ]
  },
  {
   "cell_type": "code",
   "execution_count": 57,
   "metadata": {
    "collapsed": true
   },
   "outputs": [],
   "source": [
    "from pygenetic import Utils"
   ]
  },
  {
   "cell_type": "markdown",
   "metadata": {},
   "source": [
    "### Crossover\n",
    "Traditional crossover methods such as 1-point, 2-point crossover cannot be used since it create duplicate genes in the offsprings. In the popularly used `distinct` crossover, the first half of the chromosome is kept the same while the second half is obtained by sequentially traversing the second chromosome and adding elements only if that element is not already present.\n",
    "<img src=\"tsp-crossover.png\" style=\"width:700px;\">"
   ]
  },
  {
   "cell_type": "markdown",
   "metadata": {},
   "source": [
    "This can be done using the `addCrossoverHandler` of the pygenetic module which takes as parameters\n",
    "* crossover_function = the crossover function to be used\n",
    "* weight = the weightage the crossover function needs to be given (mainly used when multiple crossovers are added)"
   ]
  },
  {
   "cell_type": "code",
   "execution_count": 58,
   "metadata": {
    "collapsed": true
   },
   "outputs": [],
   "source": [
    "ga.addCrossoverHandler(Utils.CrossoverHandlers.PMX, 9)\n",
    "ga.addCrossoverHandler(Utils.CrossoverHandlers.distinct, 4)\n",
    "ga.addCrossoverHandler(Utils.CrossoverHandlers.OX, 3)"
   ]
  },
  {
   "cell_type": "markdown",
   "metadata": {},
   "source": [
    "### Mutation"
   ]
  },
  {
   "cell_type": "markdown",
   "metadata": {},
   "source": [
    "The use of the mutation technique of `swap` as shown in the diagram also ensures that each element in the chromosome is a unique number and that there are no duplicates. This is a suitable for mutation function for this problem\n",
    "<img src=\"tsp-mutation.png\" style=\"width:700px\">"
   ]
  },
  {
   "cell_type": "markdown",
   "metadata": {},
   "source": [
    "This can be done using the `addMutationHandler` of the pygenetic module which takes as parameters\n",
    "* mutation_function = the mutation function to be used\n",
    "* weight = the weightage the mutation function needs to be given (mainly used when multiple mutations are added)"
   ]
  },
  {
   "cell_type": "code",
   "execution_count": 59,
   "metadata": {
    "collapsed": true
   },
   "outputs": [],
   "source": [
    "ga.addMutationHandler(Utils.MutationHandlers.swap)"
   ]
  },
  {
   "cell_type": "markdown",
   "metadata": {},
   "source": [
    "## Selection\n",
    "The selection function `best` chooses the best (1 - cross_prob) percent of the population. Hence, this function is one of the possible selection handlers which can be used in our genetic algorithm"
   ]
  },
  {
   "cell_type": "code",
   "execution_count": 60,
   "metadata": {
    "collapsed": true
   },
   "outputs": [],
   "source": [
    "ga.setSelectionHandler(Utils.SelectionHandlers.SUS)"
   ]
  },
  {
   "cell_type": "markdown",
   "metadata": {},
   "source": [
    "## 4. Time to Evolve"
   ]
  },
  {
   "cell_type": "markdown",
   "metadata": {},
   "source": [
    "This can be easily done using the `evolve` function of the GAEngine instance. It takes the `noOfIterations` as a parameter. Let's evolve it for 100 generations"
   ]
  },
  {
   "cell_type": "code",
   "execution_count": 61,
   "metadata": {
    "collapsed": false,
    "scrolled": true
   },
   "outputs": [
    {
     "name": "stdout",
     "output_type": "stream",
     "text": [
      "mutation_handlers_weights =  [1.0]\n",
      "crossover_handlers_weights =  [0.5625, 0.8125, 1.0]\n",
      "Diversity =  93.42892485734811\n",
      "New mutation value =  0.0373295128263303\n",
      "Members left after selection =  10\n",
      "Best member after selection =  [3, 7, 2, 5, 0, 6, 4, 1]\n",
      "Best fitness after selection =  1306\n",
      "crossover_indices =  [3 4 1 0 6 2]\n",
      "adaptive_mutation value passed =  True\n",
      "mutation_indexes =  []\n",
      "New generation members =  [[3, 7, 2, 5, 0, 6, 4, 1], [3, 7, 2, 5, 0, 6, 4, 1], [5, 2, 0, 6, 4, 1, 7, 3], [5, 4, 7, 1, 3, 0, 2, 6], [5, 3, 0, 6, 2, 7, 4, 1], [5, 6, 2, 0, 4, 1, 7, 3], [3, 7, 5, 6, 4, 2, 0, 1], [1, 3, 2, 5, 0, 7, 6, 4], [1, 6, 7, 5, 2, 4, 3, 0], [2, 4, 3, 0, 5, 1, 6, 7]]\n",
      "Length of new generation  10\n",
      "Diversity =  98.66635191391237\n",
      "New mutation value =  0.03719032632113738\n",
      "Members left after selection =  10\n",
      "Best member after selection =  [3, 7, 2, 5, 0, 6, 4, 1]\n",
      "Best fitness after selection =  1306\n",
      "crossover_indices =  [1 0 6 4 5 3]\n",
      "adaptive_mutation value passed =  True\n",
      "mutation_indexes =  []\n",
      "New generation members =  [[3, 7, 2, 5, 0, 6, 4, 1], [3, 7, 2, 5, 0, 6, 4, 1], [3, 7, 2, 5, 0, 6, 4, 1], [5, 3, 0, 6, 2, 7, 4, 1], [3, 7, 2, 5, 0, 6, 4, 1], [3, 7, 2, 5, 0, 6, 4, 1], [3, 7, 5, 6, 4, 2, 0, 1], [5, 3, 0, 6, 2, 7, 4, 1], [5, 6, 2, 1, 3, 0, 7, 4], [5, 3, 7, 0, 4, 1, 2, 6]]\n",
      "Length of new generation  10\n",
      "Diversity =  126.26724040700344\n",
      "New mutation value =  0.036473640202197954\n",
      "Members left after selection =  10\n",
      "Best member after selection =  [3, 7, 2, 5, 0, 6, 4, 1]\n",
      "Best fitness after selection =  1306\n",
      "crossover_indices =  [4 0 6 2 3 5]\n",
      "adaptive_mutation value passed =  True\n",
      "mutation_indexes =  []\n",
      "New generation members =  [[3, 7, 2, 5, 0, 6, 4, 1], [3, 7, 2, 5, 0, 6, 4, 1], [3, 7, 2, 5, 0, 6, 4, 1], [5, 3, 0, 6, 2, 7, 4, 1], [3, 7, 2, 5, 0, 6, 4, 1], [3, 7, 2, 5, 0, 6, 4, 1], [3, 7, 2, 6, 4, 5, 0, 1], [3, 7, 5, 2, 0, 6, 4, 1], [5, 3, 0, 6, 7, 2, 4, 1], [3, 7, 2, 5, 0, 6, 4, 1]]\n",
      "Length of new generation  10\n",
      "Diversity =  110.11964402412495\n",
      "New mutation value =  0.03688953840902305\n",
      "Members left after selection =  10\n",
      "Best member after selection =  [3, 7, 2, 5, 0, 6, 4, 1]\n",
      "Best fitness after selection =  1306\n",
      "crossover_indices =  [0 4 5 3 6 1]\n",
      "adaptive_mutation value passed =  True\n",
      "mutation_indexes =  []\n",
      "New generation members =  [[3, 7, 2, 5, 0, 6, 4, 1], [3, 7, 2, 5, 0, 6, 4, 1], [3, 7, 2, 5, 0, 6, 4, 1], [3, 7, 2, 5, 0, 6, 4, 1], [3, 7, 2, 5, 0, 6, 4, 1], [3, 7, 2, 5, 0, 6, 4, 1], [3, 7, 2, 5, 0, 6, 4, 1], [5, 3, 0, 6, 2, 7, 4, 1], [3, 7, 2, 5, 0, 6, 4, 1], [3, 7, 2, 6, 4, 5, 0, 1]]\n",
      "Length of new generation  10\n",
      "Diversity =  83.55426978916158\n",
      "New mutation value =  0.03759478930457781\n",
      "Members left after selection =  10\n",
      "Best member after selection =  [3, 7, 2, 5, 0, 6, 4, 1]\n",
      "Best fitness after selection =  1306\n",
      "crossover_indices =  [3 2 6 8 4 7]\n",
      "adaptive_mutation value passed =  True\n",
      "mutation_indexes =  []\n",
      "New generation members =  [[3, 7, 2, 5, 0, 6, 4, 1], [3, 7, 2, 5, 0, 6, 4, 1], [3, 7, 2, 5, 0, 6, 4, 1], [3, 7, 2, 5, 0, 6, 4, 1], [3, 7, 2, 5, 0, 6, 4, 1], [3, 7, 2, 5, 0, 6, 4, 1], [3, 7, 2, 5, 0, 6, 4, 1], [3, 7, 2, 5, 0, 6, 4, 1], [3, 6, 2, 5, 0, 7, 4, 1], [5, 3, 0, 7, 2, 6, 4, 1]]\n",
      "Length of new generation  10\n",
      "Diversity =  52.71011288168525\n",
      "New mutation value =  0.038296528004963505\n",
      "Members left after selection =  10\n",
      "Best member after selection =  [3, 6, 2, 5, 0, 7, 4, 1]\n",
      "Best fitness after selection =  1185\n",
      "crossover_indices =  [2 7 1 5 0 8]\n",
      "adaptive_mutation value passed =  True\n",
      "mutation_indexes =  []\n",
      "New generation members =  [[3, 6, 2, 5, 0, 7, 4, 1], [3, 7, 2, 5, 0, 6, 4, 1], [3, 7, 2, 5, 0, 6, 4, 1], [3, 7, 2, 5, 0, 6, 4, 1], [3, 7, 2, 5, 0, 6, 4, 1], [3, 7, 2, 5, 0, 6, 4, 1], [3, 7, 2, 5, 0, 6, 4, 1], [3, 7, 2, 5, 0, 6, 4, 1], [3, 6, 2, 5, 0, 7, 4, 1], [3, 7, 2, 5, 0, 6, 4, 1]]\n",
      "Length of new generation  10\n",
      "Diversity =  15.30542387521496\n",
      "New mutation value =  0.03948994902228131\n",
      "Members left after selection =  10\n",
      "Best member after selection =  [3, 6, 2, 5, 0, 7, 4, 1]\n",
      "Best fitness after selection =  1185\n",
      "crossover_indices =  [0 1 8 3 4 2]\n",
      "adaptive_mutation value passed =  True\n",
      "mutation_indexes =  []\n",
      "New generation members =  [[3, 6, 2, 5, 0, 7, 4, 1], [3, 6, 2, 5, 0, 7, 4, 1], [3, 6, 2, 5, 0, 7, 4, 1], [3, 7, 2, 5, 0, 6, 4, 1], [3, 7, 2, 5, 0, 6, 4, 1], [3, 6, 2, 5, 0, 7, 4, 1], [3, 7, 2, 5, 0, 6, 4, 1], [3, 6, 2, 5, 0, 7, 4, 1], [3, 7, 2, 5, 0, 6, 4, 1], [3, 7, 2, 5, 0, 6, 4, 1]]\n",
      "Length of new generation  10\n",
      "Diversity =  19.131779844018695\n",
      "New mutation value =  0.03936446225689694\n",
      "Members left after selection =  10\n",
      "Best member after selection =  [3, 6, 2, 5, 0, 7, 4, 1]\n",
      "Best fitness after selection =  1185\n",
      "crossover_indices =  [2 4 1 3 0 8]\n",
      "adaptive_mutation value passed =  True\n",
      "mutation_indexes =  []\n",
      "New generation members =  [[3, 6, 2, 5, 0, 7, 4, 1], [3, 6, 2, 5, 0, 7, 4, 1], [3, 6, 2, 5, 0, 7, 4, 1], [3, 7, 2, 5, 0, 6, 4, 1], [3, 6, 2, 5, 0, 7, 4, 1], [3, 7, 2, 5, 0, 6, 4, 1], [3, 6, 2, 5, 0, 7, 4, 1], [3, 7, 2, 5, 0, 6, 4, 1], [3, 6, 2, 5, 0, 7, 4, 1], [3, 7, 2, 5, 0, 6, 4, 1]]\n",
      "Length of new generation  10\n",
      "Diversity =  18.7452393956439\n",
      "New mutation value =  0.03937710276951774\n",
      "Members left after selection =  10\n",
      "Best member after selection =  [3, 6, 2, 5, 0, 7, 4, 1]\n",
      "Best fitness after selection =  1185\n",
      "crossover_indices =  [2 4 1 0 3 5]\n",
      "adaptive_mutation value passed =  True\n",
      "mutation_indexes =  []\n",
      "New generation members =  [[3, 6, 2, 5, 0, 7, 4, 1], [3, 6, 2, 5, 0, 7, 4, 1], [3, 6, 2, 5, 0, 7, 4, 1], [3, 7, 2, 5, 0, 6, 4, 1], [3, 6, 2, 5, 0, 7, 4, 1], [3, 6, 2, 5, 0, 7, 4, 1], [3, 6, 2, 5, 0, 7, 4, 1], [3, 6, 2, 5, 0, 7, 4, 1], [3, 7, 2, 5, 0, 6, 4, 1], [3, 7, 2, 5, 0, 6, 4, 1]]\n",
      "Length of new generation  10\n",
      "Diversity =  17.53456586288922\n",
      "New mutation value =  0.039416746383491866\n",
      "Members left after selection =  10\n",
      "Best member after selection =  [3, 6, 2, 5, 0, 7, 4, 1]\n",
      "Best fitness after selection =  1185\n",
      "crossover_indices =  [4 1 0 6 3 2]\n",
      "adaptive_mutation value passed =  True\n",
      "mutation_indexes =  []\n",
      "New generation members =  [[3, 6, 2, 5, 0, 7, 4, 1], [3, 6, 2, 5, 0, 7, 4, 1], [3, 6, 2, 5, 0, 7, 4, 1], [3, 6, 2, 5, 0, 7, 4, 1], [3, 6, 2, 5, 0, 7, 4, 1], [3, 6, 2, 5, 0, 7, 4, 1], [3, 6, 2, 5, 0, 7, 4, 1], [3, 6, 2, 5, 0, 7, 4, 1], [3, 6, 2, 5, 0, 7, 4, 1], [3, 7, 2, 5, 0, 6, 4, 1]]\n",
      "Length of new generation  10\n",
      "Diversity =  11.479067906411217\n",
      "New mutation value =  0.03961623840435429\n",
      "Members left after selection =  10\n",
      "Best member after selection =  [3, 6, 2, 5, 0, 7, 4, 1]\n",
      "Best fitness after selection =  1185\n",
      "crossover_indices =  [1 2 7 5 6 4]\n",
      "adaptive_mutation value passed =  True\n",
      "mutation_indexes =  []\n",
      "New generation members =  [[3, 6, 2, 5, 0, 7, 4, 1], [3, 6, 2, 5, 0, 7, 4, 1], [3, 6, 2, 5, 0, 7, 4, 1], [3, 6, 2, 5, 0, 7, 4, 1], [3, 6, 2, 5, 0, 7, 4, 1], [3, 6, 2, 5, 0, 7, 4, 1], [3, 6, 2, 5, 0, 7, 4, 1], [3, 6, 2, 5, 0, 7, 4, 1], [3, 6, 2, 5, 0, 7, 4, 1], [3, 6, 2, 5, 0, 7, 4, 1]]\n",
      "Length of new generation  10\n",
      "Diversity =  0.0\n",
      "New mutation value =  0.04\n",
      "Members left after selection =  10\n",
      "Best member after selection =  [3, 6, 2, 5, 0, 7, 4, 1]\n",
      "Best fitness after selection =  1185\n",
      "crossover_indices =  [3 4 1 8 7 9]\n",
      "adaptive_mutation value passed =  True\n",
      "mutation_indexes =  []\n",
      "New generation members =  [[3, 6, 2, 5, 0, 7, 4, 1], [3, 6, 2, 5, 0, 7, 4, 1], [3, 6, 2, 5, 0, 7, 4, 1], [3, 6, 2, 5, 0, 7, 4, 1], [3, 6, 2, 5, 0, 7, 4, 1], [3, 6, 2, 5, 0, 7, 4, 1], [3, 6, 2, 5, 0, 7, 4, 1], [3, 6, 2, 5, 0, 7, 4, 1], [3, 6, 2, 5, 0, 7, 4, 1], [3, 6, 2, 5, 0, 7, 4, 1]]\n",
      "Length of new generation  10\n",
      "Diversity =  0.0\n",
      "New mutation value =  0.04\n",
      "Members left after selection =  10\n",
      "Best member after selection =  [3, 6, 2, 5, 0, 7, 4, 1]\n",
      "Best fitness after selection =  1185\n",
      "crossover_indices =  [3 4 7 9 2 5]\n",
      "adaptive_mutation value passed =  True\n",
      "mutation_indexes =  []\n",
      "New generation members =  [[3, 6, 2, 5, 0, 7, 4, 1], [3, 6, 2, 5, 0, 7, 4, 1], [3, 6, 2, 5, 0, 7, 4, 1], [3, 6, 2, 5, 0, 7, 4, 1], [3, 6, 2, 5, 0, 7, 4, 1], [3, 6, 2, 5, 0, 7, 4, 1], [3, 6, 2, 5, 0, 7, 4, 1], [3, 6, 2, 5, 0, 7, 4, 1], [3, 6, 2, 5, 0, 7, 4, 1], [3, 6, 2, 5, 0, 7, 4, 1]]\n",
      "Length of new generation  10\n",
      "Diversity =  0.0\n",
      "New mutation value =  0.04\n",
      "Members left after selection =  10\n",
      "Best member after selection =  [3, 6, 2, 5, 0, 7, 4, 1]\n",
      "Best fitness after selection =  1185\n",
      "crossover_indices =  [8 9 3 1 2 0]\n",
      "adaptive_mutation value passed =  True\n",
      "mutation_indexes =  []\n",
      "New generation members =  [[3, 6, 2, 5, 0, 7, 4, 1], [3, 6, 2, 5, 0, 7, 4, 1], [3, 6, 2, 5, 0, 7, 4, 1], [3, 6, 2, 5, 0, 7, 4, 1], [3, 6, 2, 5, 0, 7, 4, 1], [3, 6, 2, 5, 0, 7, 4, 1], [3, 6, 2, 5, 0, 7, 4, 1], [3, 6, 2, 5, 0, 7, 4, 1], [3, 6, 2, 5, 0, 7, 4, 1], [3, 6, 2, 5, 0, 7, 4, 1]]\n",
      "Length of new generation  10\n",
      "Diversity =  0.0\n",
      "New mutation value =  0.04\n",
      "Members left after selection =  10\n",
      "Best member after selection =  [3, 6, 2, 5, 0, 7, 4, 1]\n",
      "Best fitness after selection =  1185\n",
      "crossover_indices =  [6 7 2 3 8 9]\n",
      "adaptive_mutation value passed =  True\n",
      "mutation_indexes =  []\n",
      "New generation members =  [[3, 6, 2, 5, 0, 7, 4, 1], [3, 6, 2, 5, 0, 7, 4, 1], [3, 6, 2, 5, 0, 7, 4, 1], [3, 6, 2, 5, 0, 7, 4, 1], [3, 6, 2, 5, 0, 7, 4, 1], [3, 6, 2, 5, 0, 7, 4, 1], [3, 6, 2, 5, 0, 7, 4, 1], [3, 6, 2, 5, 0, 7, 4, 1], [3, 6, 2, 5, 0, 7, 4, 1], [3, 6, 2, 5, 0, 7, 4, 1]]\n",
      "Length of new generation  10\n",
      "Diversity =  0.0\n",
      "New mutation value =  0.04\n",
      "Members left after selection =  10\n",
      "Best member after selection =  [3, 6, 2, 5, 0, 7, 4, 1]\n",
      "Best fitness after selection =  1185\n",
      "crossover_indices =  [0 1 7 6 4 5]\n",
      "adaptive_mutation value passed =  True\n",
      "mutation_indexes =  []\n",
      "New generation members =  [[3, 6, 2, 5, 0, 7, 4, 1], [3, 6, 2, 5, 0, 7, 4, 1], [3, 6, 2, 5, 0, 7, 4, 1], [3, 6, 2, 5, 0, 7, 4, 1], [3, 6, 2, 5, 0, 7, 4, 1], [3, 6, 2, 5, 0, 7, 4, 1], [3, 6, 2, 5, 0, 7, 4, 1], [3, 6, 2, 5, 0, 7, 4, 1], [3, 6, 2, 5, 0, 7, 4, 1], [3, 6, 2, 5, 0, 7, 4, 1]]\n",
      "Length of new generation  10\n",
      "Diversity =  0.0\n",
      "New mutation value =  0.04\n",
      "Members left after selection =  10\n",
      "Best member after selection =  [3, 6, 2, 5, 0, 7, 4, 1]\n",
      "Best fitness after selection =  1185\n",
      "crossover_indices =  [1 2 4 7 0 9]\n",
      "adaptive_mutation value passed =  True\n",
      "mutation_indexes =  []\n",
      "New generation members =  [[3, 6, 2, 5, 0, 7, 4, 1], [3, 6, 2, 5, 0, 7, 4, 1], [3, 6, 2, 5, 0, 7, 4, 1], [3, 6, 2, 5, 0, 7, 4, 1], [3, 6, 2, 5, 0, 7, 4, 1], [3, 6, 2, 5, 0, 7, 4, 1], [3, 6, 2, 5, 0, 7, 4, 1], [3, 6, 2, 5, 0, 7, 4, 1], [3, 6, 2, 5, 0, 7, 4, 1], [3, 6, 2, 5, 0, 7, 4, 1]]\n",
      "Length of new generation  10\n",
      "Diversity =  0.0\n",
      "New mutation value =  0.04\n",
      "Members left after selection =  10\n",
      "Best member after selection =  [3, 6, 2, 5, 0, 7, 4, 1]\n",
      "Best fitness after selection =  1185\n",
      "crossover_indices =  [5 1 4 3 0 9]\n",
      "adaptive_mutation value passed =  True\n",
      "mutation_indexes =  []\n",
      "New generation members =  [[3, 6, 2, 5, 0, 7, 4, 1], [3, 6, 2, 5, 0, 7, 4, 1], [3, 6, 2, 5, 0, 7, 4, 1], [3, 6, 2, 5, 0, 7, 4, 1], [3, 6, 2, 5, 0, 7, 4, 1], [3, 6, 2, 5, 0, 7, 4, 1], [3, 6, 2, 5, 0, 7, 4, 1], [3, 6, 2, 5, 0, 7, 4, 1], [3, 6, 2, 5, 0, 7, 4, 1], [3, 6, 2, 5, 0, 7, 4, 1]]\n",
      "Length of new generation  10\n",
      "Diversity =  0.0\n",
      "New mutation value =  0.04\n",
      "Members left after selection =  10\n",
      "Best member after selection =  [3, 6, 2, 5, 0, 7, 4, 1]\n",
      "Best fitness after selection =  1185\n",
      "crossover_indices =  [6 5 8 9 2 4]\n",
      "adaptive_mutation value passed =  True\n",
      "mutation_indexes =  []\n",
      "New generation members =  [[3, 6, 2, 5, 0, 7, 4, 1], [3, 6, 2, 5, 0, 7, 4, 1], [3, 6, 2, 5, 0, 7, 4, 1], [3, 6, 2, 5, 0, 7, 4, 1], [3, 6, 2, 5, 0, 7, 4, 1], [3, 6, 2, 5, 0, 7, 4, 1], [3, 6, 2, 5, 0, 7, 4, 1], [3, 6, 2, 5, 0, 7, 4, 1], [3, 6, 2, 5, 0, 7, 4, 1], [3, 6, 2, 5, 0, 7, 4, 1]]\n",
      "Length of new generation  10\n",
      "Diversity =  0.0\n",
      "New mutation value =  0.04\n",
      "Members left after selection =  10\n",
      "Best member after selection =  [3, 6, 2, 5, 0, 7, 4, 1]\n",
      "Best fitness after selection =  1185\n",
      "crossover_indices =  [3 6 7 8 5 1]\n",
      "adaptive_mutation value passed =  True\n",
      "mutation_indexes =  []\n",
      "New generation members =  [[3, 6, 2, 5, 0, 7, 4, 1], [3, 6, 2, 5, 0, 7, 4, 1], [3, 6, 2, 5, 0, 7, 4, 1], [3, 6, 2, 5, 0, 7, 4, 1], [3, 6, 2, 5, 0, 7, 4, 1], [3, 6, 2, 5, 0, 7, 4, 1], [3, 6, 2, 5, 0, 7, 4, 1], [3, 6, 2, 5, 0, 7, 4, 1], [3, 6, 2, 5, 0, 7, 4, 1], [3, 6, 2, 5, 0, 7, 4, 1]]\n",
      "Length of new generation  10\n",
      "Hall of fame chromosome  [3, 6, 2, 5, 0, 7, 4, 1]  injected to population\n",
      "Diversity =  0.0\n",
      "New mutation value =  0.04\n",
      "Members left after selection =  11\n",
      "Best member after selection =  [3, 6, 2, 5, 0, 7, 4, 1]\n",
      "Best fitness after selection =  1185\n",
      "crossover_indices =  [ 4  0  7  2  3  8 10  9]\n",
      "adaptive_mutation value passed =  True\n",
      "mutation_indexes =  []\n",
      "New generation members =  [[3, 6, 2, 5, 0, 7, 4, 1], [3, 6, 2, 5, 0, 7, 4, 1], [3, 6, 2, 5, 0, 7, 4, 1], [3, 6, 2, 5, 0, 7, 4, 1], [3, 6, 2, 5, 0, 7, 4, 1], [3, 6, 2, 5, 0, 7, 4, 1], [3, 6, 2, 5, 0, 7, 4, 1], [3, 6, 2, 5, 0, 7, 4, 1], [3, 6, 2, 5, 0, 7, 4, 1], [3, 6, 2, 5, 0, 7, 4, 1], [3, 6, 2, 5, 0, 7, 4, 1]]\n",
      "Length of new generation  11\n",
      "Diversity =  0.0\n",
      "New mutation value =  0.04\n",
      "Members left after selection =  11\n",
      "Best member after selection =  [3, 6, 2, 5, 0, 7, 4, 1]\n",
      "Best fitness after selection =  1185\n",
      "crossover_indices =  [ 4  8  2 10  9  6  7  0]\n",
      "adaptive_mutation value passed =  True\n",
      "mutation_indexes =  []\n",
      "New generation members =  [[3, 6, 2, 5, 0, 7, 4, 1], [3, 6, 2, 5, 0, 7, 4, 1], [3, 6, 2, 5, 0, 7, 4, 1], [3, 6, 2, 5, 0, 7, 4, 1], [3, 6, 2, 5, 0, 7, 4, 1], [3, 6, 2, 5, 0, 7, 4, 1], [3, 6, 2, 5, 0, 7, 4, 1], [3, 6, 2, 5, 0, 7, 4, 1], [3, 6, 2, 5, 0, 7, 4, 1], [3, 6, 2, 5, 0, 7, 4, 1], [3, 6, 2, 5, 0, 7, 4, 1]]\n",
      "Length of new generation  11\n",
      "Diversity =  0.0\n",
      "New mutation value =  0.04\n",
      "Members left after selection =  11\n",
      "Best member after selection =  [3, 6, 2, 5, 0, 7, 4, 1]\n",
      "Best fitness after selection =  1185\n",
      "crossover_indices =  [10  5  2  3  8  7  1  0]\n",
      "adaptive_mutation value passed =  True\n",
      "mutation_indexes =  []\n",
      "New generation members =  [[3, 6, 2, 5, 0, 7, 4, 1], [3, 6, 2, 5, 0, 7, 4, 1], [3, 6, 2, 5, 0, 7, 4, 1], [3, 6, 2, 5, 0, 7, 4, 1], [3, 6, 2, 5, 0, 7, 4, 1], [3, 6, 2, 5, 0, 7, 4, 1], [3, 6, 2, 5, 0, 7, 4, 1], [3, 6, 2, 5, 0, 7, 4, 1], [3, 6, 2, 5, 0, 7, 4, 1], [3, 6, 2, 5, 0, 7, 4, 1], [3, 6, 2, 5, 0, 7, 4, 1]]\n",
      "Length of new generation  11\n",
      "Diversity =  0.0\n",
      "New mutation value =  0.04\n",
      "Members left after selection =  11\n",
      "Best member after selection =  [3, 6, 2, 5, 0, 7, 4, 1]\n",
      "Best fitness after selection =  1185\n",
      "crossover_indices =  [ 0  6 10  3  2  1  5  7]\n",
      "adaptive_mutation value passed =  True\n",
      "mutation_indexes =  []\n",
      "New generation members =  [[3, 6, 2, 5, 0, 7, 4, 1], [3, 6, 2, 5, 0, 7, 4, 1], [3, 6, 2, 5, 0, 7, 4, 1], [3, 6, 2, 5, 0, 7, 4, 1], [3, 6, 2, 5, 0, 7, 4, 1], [3, 6, 2, 5, 0, 7, 4, 1], [3, 6, 2, 5, 0, 7, 4, 1], [3, 6, 2, 5, 0, 7, 4, 1], [3, 6, 2, 5, 0, 7, 4, 1], [3, 6, 2, 5, 0, 7, 4, 1], [3, 6, 2, 5, 0, 7, 4, 1]]\n",
      "Length of new generation  11\n",
      "Diversity =  0.0\n",
      "New mutation value =  0.04\n",
      "Members left after selection =  11\n",
      "Best member after selection =  [3, 6, 2, 5, 0, 7, 4, 1]\n",
      "Best fitness after selection =  1185\n",
      "crossover_indices =  [7 9 6 0 2 4 3 8]\n",
      "adaptive_mutation value passed =  True\n",
      "mutation_indexes =  []\n",
      "New generation members =  [[3, 6, 2, 5, 0, 7, 4, 1], [3, 6, 2, 5, 0, 7, 4, 1], [3, 6, 2, 5, 0, 7, 4, 1], [3, 6, 2, 5, 0, 7, 4, 1], [3, 6, 2, 5, 0, 7, 4, 1], [3, 6, 2, 5, 0, 7, 4, 1], [3, 6, 2, 5, 0, 7, 4, 1], [3, 6, 2, 5, 0, 7, 4, 1], [3, 6, 2, 5, 0, 7, 4, 1], [3, 6, 2, 5, 0, 7, 4, 1], [3, 6, 2, 5, 0, 7, 4, 1]]\n",
      "Length of new generation  11\n",
      "Best fitness in this generation =  ([3, 6, 2, 5, 0, 7, 4, 1], 1185)\n",
      "Best among all generations =  ([3, 6, 2, 5, 0, 7, 4, 1], 1185)\n",
      "Top fittest chromosomes of this generation:  [([3, 6, 2, 5, 0, 7, 4, 1], 0), ([3, 6, 2, 5, 0, 7, 4, 1], 0), ([3, 6, 2, 5, 0, 7, 4, 1], 0), ([3, 6, 2, 5, 0, 7, 4, 1], 0), ([3, 6, 2, 5, 0, 7, 4, 1], 0), ([3, 6, 2, 5, 0, 7, 4, 1], 0), ([3, 6, 2, 5, 0, 7, 4, 1], 0), ([3, 6, 2, 5, 0, 7, 4, 1], 0), ([3, 6, 2, 5, 0, 7, 4, 1], 0), ([3, 6, 2, 5, 0, 7, 4, 1], 0)]\n"
     ]
    }
   ],
   "source": [
    "ga.evolve(100)"
   ]
  },
  {
   "cell_type": "markdown",
   "metadata": {},
   "source": [
    "We can get the best member by using the `best_fitness` attribute of the `GAEngine`. \n",
    "It returns a tuple having\n",
    "* chromsome having best fitness\n",
    "* best fitness value"
   ]
  },
  {
   "cell_type": "code",
   "execution_count": 62,
   "metadata": {
    "collapsed": false
   },
   "outputs": [
    {
     "name": "stdout",
     "output_type": "stream",
     "text": [
      "([3, 6, 2, 5, 0, 7, 4, 1], 1185)\n"
     ]
    }
   ],
   "source": [
    "best = ga.best_fitness\n",
    "print(best)"
   ]
  },
  {
   "cell_type": "markdown",
   "metadata": {},
   "source": [
    "## 5. Plotting the Statistics\n",
    "\n",
    "- The functionality for plotting the best, worst, average fitness values across iterations is present in `plot_statistics` function of statistics.py module. The function takes a list of attributes to be plotted.\n",
    "- These attributes can be `best-fitness`,`worst-fitness`,`avg-fitness`, `'diversity`, `mutation_rate`\n",
    "- The diversity and mutation rate values over iterations can also be visualized "
   ]
  },
  {
   "cell_type": "code",
   "execution_count": 65,
   "metadata": {
    "collapsed": false
   },
   "outputs": [
    {
     "name": "stdout",
     "output_type": "stream",
     "text": [
      "best-fitness [1306, 1306, 1306, 1306, 1306, 1185, 1185, 1185, 1185, 1185, 1185, 1185, 1185, 1185, 1185, 1185, 1185, 1185, 1185, 1185, 1185, 1185, 1185, 1185, 1185]\n",
      "worst-fitness [2172, 2186, 2186, 2204, 2186, 1835, 1306, 1306, 1306, 1306, 1306, 1185, 1185, 1185, 1185, 1185, 1185, 1185, 1185, 1185, 1185, 1185, 1185, 1185, 1185]\n",
      "avg-fitness [1748.6, 1642.9, 1648.2, 1508.8, 1414.2, 1346.8, 1281.8, 1245.5, 1233.4, 1221.3, 1197.1, 1185.0, 1185.0, 1185.0, 1185.0, 1185.0, 1185.0, 1185.0, 1185.0, 1185.0, 1185.0, 1185.0, 1185.0, 1185.0, 1185.0]\n",
      "diversity [93.42892485734811, 98.66635191391237, 126.26724040700344, 110.11964402412495, 83.55426978916158, 52.71011288168525, 15.30542387521496, 19.131779844018695, 18.7452393956439, 17.53456586288922, 11.479067906411217, 0.0, 0.0, 0.0, 0.0, 0.0, 0.0, 0.0, 0.0, 0.0, 0.0, 0.0, 0.0, 0.0, 0.0]\n",
      "mutation_rate [0.0373295128263303, 0.03719032632113738, 0.036473640202197954, 0.03688953840902305, 0.03759478930457781, 0.038296528004963505, 0.03948994902228131, 0.03936446225689694, 0.03937710276951774, 0.039416746383491866, 0.03961623840435429, 0.04, 0.04, 0.04, 0.04, 0.04, 0.04, 0.04, 0.04, 0.04, 0.04, 0.04, 0.04, 0.04, 0.04]\n"
     ]
    }
   ],
   "source": [
    "import matplotlib.pyplot as plt\n",
    "fig = ga.statistics.plot_statistics(['best-fitness','worst-fitness','avg-fitness'])\n",
    "plt.show()\n",
    "fig = ga.statistics.plot_statistics(['diversity'])\n",
    "plt.show()\n",
    "fig = ga.statistics.plot_statistics(['mutation_rate'])\n",
    "plt.show()"
   ]
  }
 ],
 "metadata": {
  "anaconda-cloud": {},
  "kernelspec": {
   "display_name": "Python [default]",
   "language": "python",
   "name": "python3"
  },
  "language_info": {
   "codemirror_mode": {
    "name": "ipython",
    "version": 3
   },
   "file_extension": ".py",
   "mimetype": "text/x-python",
   "name": "python",
   "nbconvert_exporter": "python",
   "pygments_lexer": "ipython3",
   "version": "3.5.2"
  }
 },
 "nbformat": 4,
 "nbformat_minor": 1
}
