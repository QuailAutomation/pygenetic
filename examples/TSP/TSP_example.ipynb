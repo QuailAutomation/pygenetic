{
 "cells": [
  {
   "cell_type": "markdown",
   "metadata": {},
   "source": [
    "# Solving TSP using pygenetic\n",
    "\n",
    "In this example we are going to walk through the usage of GAEngine to solve the TSP problem \n",
    "The objective would be to find shortest path distance covering all places\n",
    "<b>Each permutation of places represents a potential candidate solution for the problem</b>\n"
   ]
  },
  {
   "cell_type": "markdown",
   "metadata": {},
   "source": [
    "## 1. Chromosome Representation"
   ]
  },
  {
   "cell_type": "markdown",
   "metadata": {},
   "source": [
    "Each chromosome is encoded as a permutation of the places. <br/>\n",
    "For example,\n",
    "For a 4 city problem, a chromosome can be represented as `[3,0,1,2]` which means city 3 is traversed first followed by city 0 followed by city 1 followed by city 2."
   ]
  },
  {
   "cell_type": "markdown",
   "metadata": {},
   "source": [
    "This can be easily achieved by using the `RangeFactory` of `pygenetic`. <br/>\n",
    "The `RangeFactory` takes the following parameters\n",
    "* minValue = minimum value a gene can take = 0 <br/>\n",
    "* maxValue = minimum value a gene can take = 7 <br/>\n",
    "* duplicates = if duplicates are allowed = False <br/>\n",
    "* noOfGenes = number of genes in the chromosome = 8"
   ]
  },
  {
   "cell_type": "code",
   "execution_count": 1,
   "metadata": {},
   "outputs": [],
   "source": [
    "from pygenetic import ChromosomeFactory\n",
    "\n",
    "factory = ChromosomeFactory.ChromosomeRangeFactory(noOfGenes=8,minValue=0,maxValue=7)"
   ]
  },
  {
   "cell_type": "markdown",
   "metadata": {},
   "source": [
    "You can also check if the factory works as expected by calling `createChromosome` function and observing the chromosome produced by the factory"
   ]
  },
  {
   "cell_type": "code",
   "execution_count": 2,
   "metadata": {},
   "outputs": [
    {
     "name": "stdout",
     "output_type": "stream",
     "text": [
      "Chromosome created:  [7, 3, 4, 1, 0, 6, 5, 2]\n",
      "Chromosome created:  [1, 0, 7, 4, 2, 6, 3, 5]\n",
      "Chromosome created:  [4, 7, 5, 6, 3, 2, 1, 0]\n",
      "Chromosome created:  [1, 3, 5, 4, 6, 2, 7, 0]\n",
      "Chromosome created:  [6, 5, 4, 3, 7, 0, 1, 2]\n"
     ]
    }
   ],
   "source": [
    "# Code to test if factory works as expected\n",
    "for i in range(5):\n",
    "    print('Chromosome created: ', factory.createChromosome())"
   ]
  },
  {
   "cell_type": "markdown",
   "metadata": {},
   "source": [
    "### Sample input matrix for TSP problem"
   ]
  },
  {
   "cell_type": "code",
   "execution_count": 3,
   "metadata": {},
   "outputs": [],
   "source": [
    "matrix = [[0,172,145,607,329,72,312,120],\n",
    "          [172,0,192,494,209,158,216,92],\n",
    "          [145,192,0,490,237,75,205,100],\n",
    "          [607,494,490,0,286,545,296,489],\n",
    "          [329,209,237,286,0,421,49,208],\n",
    "          [72,158,75,545,421,0,249,75],\n",
    "          [312,216,205,296,49,249,9,194],\n",
    "          [120,92,100,489,208,75,194,0]]"
   ]
  },
  {
   "cell_type": "markdown",
   "metadata": {},
   "source": [
    "## 2. Fitness function \n",
    "Fitness for a given chromosome is to minimize the distance travelled while covering all places. Hence, we have a minimization GA problem.\n"
   ]
  },
  {
   "cell_type": "code",
   "execution_count": 4,
   "metadata": {},
   "outputs": [],
   "source": [
    "def fitness(chromosome, matrix):\n",
    "\t\ttotal = 0\n",
    "\t\tfor i in range(len(chromosome)-1):\n",
    "\t\t\ttotal += matrix[chromosome[i]][chromosome[i+1]]\n",
    "\t\treturn total\n"
   ]
  },
  {
   "cell_type": "markdown",
   "metadata": {},
   "source": [
    "We need then create a `GAEngine` instance from the `pygenetic` package and set the following\n",
    "* `factory` = the range factory instance we had intially created\n",
    "* `population_size = 500` would be a good number for this problem\n",
    "* `cross_prob = 0.8`\n",
    "* `mut_prob = 0.2`\n",
    "* `fitness_type = 'min'` since our GA is a minimization problem"
   ]
  },
  {
   "cell_type": "code",
   "execution_count": 5,
   "metadata": {},
   "outputs": [],
   "source": [
    "from pygenetic import GAEngine, Utils\n",
    "ga = GAEngine.GAEngine(factory,10,fitness_type='min',mut_prob = 0.2,cross_prob=0.6)"
   ]
  },
  {
   "cell_type": "markdown",
   "metadata": {},
   "source": [
    "We can now add the fitness function we had defined to this `GAEngine` instance"
   ]
  },
  {
   "cell_type": "code",
   "execution_count": 6,
   "metadata": {},
   "outputs": [],
   "source": [
    "ga.setFitnessHandler(fitness, matrix)"
   ]
  },
  {
   "cell_type": "markdown",
   "metadata": {},
   "source": [
    "## 3. Determing other attributes of the GA"
   ]
  },
  {
   "cell_type": "markdown",
   "metadata": {},
   "source": [
    "Many Standard Crossover, Mutation, Selection and Fitness functions are present in the `Utils` module of the `pygenetic` package."
   ]
  },
  {
   "cell_type": "code",
   "execution_count": 7,
   "metadata": {},
   "outputs": [],
   "source": [
    "from pygenetic import Utils"
   ]
  },
  {
   "cell_type": "markdown",
   "metadata": {},
   "source": [
    "### Crossover\n",
    "Traditional crossover methods such as 1-point, 2-point crossover cannot be used since it create duplicate genes in the offsprings. In the popularly used `distinct` crossover, the first half of the chromosome is kept the same while the second half is obtained by sequentially traversing the second chromosome and adding elements only if that element is not already present.\n",
    "<img src=\"tsp-crossover.png\" style=\"width:700px;\">"
   ]
  },
  {
   "cell_type": "markdown",
   "metadata": {},
   "source": [
    "This can be done using the `addCrossoverHandler` of the pygenetic module which takes as parameters\n",
    "* crossover_function = the crossover function to be used\n",
    "* weight = the weightage the crossover function needs to be given (mainly used when multiple crossovers are added)\n",
    "\n",
    "PMX and OX are other two crossovers popularly used in TSP using GA execution"
   ]
  },
  {
   "cell_type": "code",
   "execution_count": 8,
   "metadata": {},
   "outputs": [],
   "source": [
    "ga.addCrossoverHandler(Utils.CrossoverHandlers.PMX, 9)\n",
    "ga.addCrossoverHandler(Utils.CrossoverHandlers.distinct, 4)\n",
    "ga.addCrossoverHandler(Utils.CrossoverHandlers.OX, 3)"
   ]
  },
  {
   "cell_type": "markdown",
   "metadata": {},
   "source": [
    "### Mutation"
   ]
  },
  {
   "cell_type": "markdown",
   "metadata": {},
   "source": [
    "The use of the mutation technique of `swap` as shown in the diagram also ensures that each element in the chromosome is a unique number and that there are no duplicates. This is a suitable for mutation function for this problem\n",
    "<img src=\"tsp-mutation.png\" style=\"width:700px\">"
   ]
  },
  {
   "cell_type": "markdown",
   "metadata": {},
   "source": [
    "This can be done using the `addMutationHandler` of the pygenetic module which takes as parameters\n",
    "* mutation_function = the mutation function to be used\n",
    "* weight = the weightage the mutation function needs to be given (mainly used when multiple mutations are added)"
   ]
  },
  {
   "cell_type": "code",
   "execution_count": 9,
   "metadata": {},
   "outputs": [],
   "source": [
    "ga.addMutationHandler(Utils.MutationHandlers.swap)"
   ]
  },
  {
   "cell_type": "markdown",
   "metadata": {},
   "source": [
    "## Selection\n",
    "The selection function `best` chooses the best (1 - cross_prob) percent of the population. Hence, this function is one of the possible selection handlers which can be used in our genetic algorithm"
   ]
  },
  {
   "cell_type": "code",
   "execution_count": 10,
   "metadata": {},
   "outputs": [],
   "source": [
    "ga.setSelectionHandler(Utils.SelectionHandlers.best)"
   ]
  },
  {
   "cell_type": "markdown",
   "metadata": {},
   "source": [
    "## 4. Time to Evolve"
   ]
  },
  {
   "cell_type": "markdown",
   "metadata": {},
   "source": [
    "This can be easily done using the `evolve` function of the GAEngine instance. It takes the `noOfIterations` as a parameter. Let's evolve it for 100 generations"
   ]
  },
  {
   "cell_type": "code",
   "execution_count": 11,
   "metadata": {
    "scrolled": true
   },
   "outputs": [
    {
     "name": "stdout",
     "output_type": "stream",
     "text": [
      "mutation_handlers_weights =  [1.0]\n",
      "crossover_handlers_weights =  [0.5625, 0.8125, 1.0]\n",
      "Diversity =  66.12867003047921\n",
      "New mutation value =  0.38438638783456996\n",
      "Members left after selection =  10\n",
      "Best member after selection =  [0, 2, 3, 4, 7, 1, 5, 6]\n",
      "Best fitness after selection =  1628\n",
      "crossover_indices =  [2 5 4 7 3 9]\n",
      "adaptive_mutation value passed =  True\n",
      "mutation_indexes =  [6 1 9]\n",
      "New generation members =  [[0, 2, 3, 4, 7, 1, 5, 6], [5, 3, 2, 7, 6, 1, 4, 0], [5, 1, 7, 3, 6, 0, 2, 4], [4, 6, 7, 5, 1, 2, 3, 0], [5, 7, 4, 0, 3, 1, 6, 2], [0, 1, 2, 5, 3, 7, 6, 4], [0, 2, 3, 4, 5, 1, 6, 7], [1, 2, 0, 4, 7, 6, 5, 3], [6, 1, 7, 3, 0, 4, 5, 2], [5, 1, 7, 4, 6, 0, 3, 2]]\n",
      "Length of new generation  10\n",
      "Diversity =  59.457009679263216\n",
      "New mutation value =  0.38590612754263554\n",
      "Members left after selection =  10\n",
      "Best member after selection =  [0, 2, 3, 4, 7, 1, 5, 6]\n",
      "Best fitness after selection =  1628\n",
      "crossover_indices =  [9 7 1 6 8 3]\n",
      "adaptive_mutation value passed =  True\n",
      "mutation_indexes =  [2 1 7]\n",
      "New generation members =  [[0, 2, 3, 4, 7, 1, 5, 6], [0, 1, 2, 5, 7, 3, 6, 4], [5, 1, 7, 3, 6, 2, 0, 4], [4, 6, 7, 5, 1, 2, 3, 0], [2, 0, 4, 7, 6, 5, 3, 1], [1, 7, 4, 6, 0, 3, 5, 2], [7, 3, 2, 4, 5, 1, 6, 0], [0, 2, 3, 7, 6, 4, 1, 5], [1, 2, 7, 3, 0, 4, 5, 6], [0, 4, 7, 5, 1, 2, 3, 6]]\n",
      "Length of new generation  10\n",
      "Diversity =  97.93093995260128\n",
      "New mutation value =  0.3729085429333682\n",
      "Members left after selection =  10\n",
      "Best member after selection =  [0, 1, 2, 5, 7, 3, 6, 4]\n",
      "Best fitness after selection =  1348\n",
      "crossover_indices =  [9 4 1 7 6 8]\n",
      "adaptive_mutation value passed =  True\n",
      "mutation_indexes =  [5 0 4]\n",
      "New generation members =  [[0, 1, 5, 2, 7, 3, 6, 4], [0, 2, 3, 4, 7, 1, 5, 6], [5, 1, 7, 3, 6, 2, 0, 4], [0, 2, 3, 7, 6, 4, 1, 5], [0, 4, 5, 7, 1, 2, 3, 6], [2, 0, 7, 6, 5, 4, 3, 1], [0, 1, 2, 7, 6, 4, 5, 3], [0, 2, 4, 5, 7, 3, 1, 6], [7, 3, 2, 4, 0, 1, 6, 5], [1, 2, 7, 3, 5, 4, 0, 6]]\n",
      "Length of new generation  10\n",
      "Diversity =  91.11733644043817\n",
      "New mutation value =  0.3745147243184314\n",
      "Members left after selection =  10\n",
      "Best member after selection =  [0, 1, 5, 2, 7, 3, 6, 4]\n",
      "Best fitness after selection =  1339\n",
      "crossover_indices =  [1 8 4 7 5 3]\n",
      "adaptive_mutation value passed =  True\n",
      "mutation_indexes =  [2 4 5]\n",
      "New generation members =  [[0, 1, 5, 2, 7, 3, 6, 4], [0, 2, 3, 4, 7, 1, 5, 6], [1, 0, 2, 7, 6, 4, 5, 3], [5, 1, 7, 3, 6, 2, 0, 4], [0, 2, 7, 3, 4, 6, 1, 5], [7, 3, 0, 2, 4, 1, 6, 5], [0, 4, 5, 7, 2, 3, 1, 6], [0, 2, 4, 5, 7, 1, 3, 6], [0, 2, 3, 7, 6, 4, 5, 1], [2, 0, 7, 6, 5, 4, 1, 3]]\n",
      "Length of new generation  10\n",
      "Diversity =  80.11070465299878\n",
      "New mutation value =  0.3774194629382104\n",
      "Members left after selection =  10\n",
      "Best member after selection =  [0, 1, 5, 2, 7, 3, 6, 4]\n",
      "Best fitness after selection =  1339\n",
      "crossover_indices =  [6 3 7 9 0 1]\n",
      "adaptive_mutation value passed =  True\n",
      "mutation_indexes =  [3 5 4]\n",
      "New generation members =  [[0, 1, 5, 2, 7, 3, 6, 4], [0, 2, 7, 3, 4, 6, 1, 5], [1, 0, 2, 7, 6, 4, 5, 3], [0, 2, 3, 4, 7, 5, 1, 6], [0, 4, 5, 1, 7, 3, 2, 6], [1, 5, 7, 0, 4, 2, 3, 6], [0, 2, 4, 7, 6, 5, 1, 3], [2, 0, 7, 4, 5, 1, 3, 6], [0, 1, 6, 2, 7, 3, 5, 4], [0, 2, 3, 4, 7, 1, 6, 5]]\n",
      "Length of new generation  10\n",
      "Diversity =  81.6535608531557\n",
      "New mutation value =  0.3770095783790892\n",
      "Members left after selection =  10\n",
      "Best member after selection =  [0, 1, 5, 2, 7, 3, 6, 4]\n",
      "Best fitness after selection =  1339\n",
      "crossover_indices =  [8 2 9 6 4 0]\n",
      "adaptive_mutation value passed =  True\n",
      "mutation_indexes =  [1 2 6]\n",
      "New generation members =  [[0, 1, 5, 2, 7, 3, 6, 4], [2, 0, 7, 3, 4, 6, 1, 5], [0, 2, 3, 4, 7, 1, 5, 6], [1, 0, 2, 7, 6, 4, 5, 3], [0, 1, 2, 7, 6, 3, 5, 4], [1, 0, 6, 2, 7, 4, 5, 3], [0, 2, 4, 6, 7, 1, 3, 5], [0, 2, 3, 4, 7, 5, 1, 6], [0, 4, 1, 5, 2, 7, 3, 6], [0, 1, 4, 5, 7, 3, 2, 6]]\n",
      "Length of new generation  10\n",
      "Diversity =  68.18988194739744\n",
      "New mutation value =  0.3806167219300838\n",
      "Members left after selection =  10\n",
      "Best member after selection =  [0, 1, 5, 2, 7, 3, 6, 4]\n",
      "Best fitness after selection =  1339\n",
      "crossover_indices =  [5 9 8 0 2 6]\n",
      "adaptive_mutation value passed =  True\n",
      "mutation_indexes =  [0 1 6]\n",
      "New generation members =  [[0, 1, 5, 2, 7, 3, 4, 6], [2, 7, 0, 3, 4, 6, 1, 5], [0, 2, 3, 4, 7, 5, 1, 6], [1, 0, 2, 7, 6, 4, 5, 3], [1, 4, 6, 5, 7, 3, 2, 0], [0, 6, 4, 2, 7, 5, 3, 1], [0, 4, 1, 2, 3, 7, 5, 6], [0, 1, 3, 5, 2, 7, 6, 4], [6, 2, 3, 4, 7, 1, 5, 0], [5, 2, 4, 6, 7, 1, 3, 0]]\n",
      "Length of new generation  10\n",
      "Diversity =  57.20363624805682\n",
      "New mutation value =  0.3834934392747992\n",
      "Members left after selection =  10\n",
      "Best member after selection =  [0, 1, 5, 2, 7, 3, 4, 6]\n",
      "Best fitness after selection =  1329\n",
      "crossover_indices =  [2 3 7 8 0 1]\n",
      "adaptive_mutation value passed =  True\n",
      "mutation_indexes =  [0 6 3]\n",
      "New generation members =  [[1, 0, 5, 2, 7, 3, 4, 6], [6, 2, 3, 4, 7, 1, 5, 0], [2, 7, 0, 3, 4, 6, 1, 5], [0, 2, 3, 4, 7, 1, 5, 6], [0, 1, 2, 7, 6, 4, 5, 3], [1, 0, 2, 3, 4, 7, 5, 6], [2, 0, 3, 4, 7, 1, 6, 5], [6, 1, 3, 5, 2, 7, 4, 0], [5, 7, 0, 3, 4, 6, 1, 2], [6, 1, 5, 2, 7, 3, 4, 0]]\n",
      "Length of new generation  10\n",
      "Diversity =  56.969325079379345\n",
      "New mutation value =  0.382470563272437\n",
      "Members left after selection =  10\n",
      "Best member after selection =  [1, 0, 5, 2, 7, 3, 4, 6]\n",
      "Best fitness after selection =  1243\n",
      "crossover_indices =  [8 4 9 7 2 5]\n",
      "adaptive_mutation value passed =  True\n",
      "mutation_indexes =  [5 9 4]\n",
      "New generation members =  [[1, 0, 5, 2, 7, 3, 4, 6], [6, 2, 3, 4, 7, 1, 5, 0], [2, 7, 0, 3, 4, 6, 1, 5], [5, 7, 0, 3, 4, 6, 1, 2], [5, 0, 7, 3, 6, 4, 1, 2], [0, 1, 2, 7, 4, 5, 6, 3], [6, 1, 5, 2, 3, 7, 4, 0], [6, 1, 7, 5, 2, 3, 4, 0], [2, 6, 0, 3, 4, 7, 1, 5], [1, 2, 0, 3, 4, 6, 5, 7]]\n",
      "Length of new generation  10\n",
      "Diversity =  61.58497381667057\n",
      "New mutation value =  0.38111737447458144\n",
      "Members left after selection =  10\n",
      "Best member after selection =  [1, 0, 5, 2, 7, 3, 4, 6]\n",
      "Best fitness after selection =  1243\n",
      "crossover_indices =  [3 2 6 1 0 5]\n",
      "adaptive_mutation value passed =  True\n",
      "mutation_indexes =  [8 9 0]\n",
      "New generation members =  [[1, 0, 5, 2, 7, 3, 6, 4], [5, 0, 7, 3, 6, 4, 1, 2], [6, 2, 3, 4, 7, 1, 5, 0], [2, 7, 0, 3, 4, 6, 1, 5], [5, 7, 0, 3, 2, 4, 6, 1], [2, 7, 0, 3, 5, 4, 6, 1], [6, 1, 5, 2, 3, 4, 7, 0], [6, 2, 3, 1, 5, 7, 4, 0], [1, 0, 5, 2, 7, 4, 3, 6], [0, 2, 1, 7, 4, 5, 3, 6]]\n",
      "Length of new generation  10\n",
      "Diversity =  88.27043106272905\n",
      "New mutation value =  0.37278272010241764\n",
      "Members left after selection =  10\n",
      "Best member after selection =  [1, 0, 5, 2, 7, 4, 3, 6]\n",
      "Best fitness after selection =  1209\n",
      "crossover_indices =  [9 4 0 8 7 2]\n",
      "adaptive_mutation value passed =  True\n",
      "mutation_indexes =  [3 9 4]\n",
      "New generation members =  [[1, 0, 5, 2, 7, 4, 3, 6], [1, 0, 5, 2, 7, 3, 6, 4], [5, 0, 7, 3, 6, 4, 1, 2], [6, 2, 4, 3, 7, 1, 5, 0], [0, 1, 2, 5, 7, 3, 4, 6], [5, 7, 0, 2, 1, 4, 3, 6], [1, 0, 5, 2, 7, 3, 6, 4], [1, 0, 5, 2, 7, 4, 3, 6], [6, 2, 3, 1, 5, 7, 4, 0], [6, 3, 2, 4, 7, 1, 5, 0]]\n",
      "Length of new generation  10\n",
      "Diversity =  69.38992001724746\n",
      "New mutation value =  0.37828833943987566\n",
      "Members left after selection =  10\n",
      "Best member after selection =  [1, 0, 5, 2, 7, 4, 3, 6]\n",
      "Best fitness after selection =  1209\n",
      "crossover_indices =  [5 9 4 7 6 0]\n",
      "adaptive_mutation value passed =  True\n",
      "mutation_indexes =  [5 7 9]\n",
      "New generation members =  [[1, 0, 5, 2, 7, 4, 3, 6], [1, 0, 5, 2, 7, 4, 3, 6], [1, 0, 5, 2, 7, 3, 6, 4], [1, 0, 5, 2, 7, 3, 6, 4], [5, 3, 2, 0, 1, 4, 7, 6], [7, 6, 0, 4, 3, 1, 5, 2], [0, 1, 2, 5, 7, 4, 3, 6], [1, 0, 5, 2, 7, 3, 6, 4], [1, 0, 5, 2, 7, 3, 6, 4], [1, 0, 5, 7, 2, 4, 3, 6]]\n",
      "Length of new generation  10\n",
      "Diversity =  84.13216388516345\n",
      "New mutation value =  0.37397569521977037\n",
      "Members left after selection =  10\n",
      "Best member after selection =  [1, 0, 5, 2, 7, 4, 3, 6]\n",
      "Best fitness after selection =  1209\n",
      "crossover_indices =  [3 4 9 5 8 7]\n",
      "adaptive_mutation value passed =  True\n",
      "mutation_indexes =  [0 8 4]\n",
      "New generation members =  [[1, 0, 5, 7, 2, 4, 3, 6], [1, 0, 5, 2, 7, 4, 3, 6], [1, 0, 5, 7, 2, 4, 3, 6], [1, 0, 5, 2, 7, 3, 6, 4], [1, 0, 5, 7, 2, 3, 4, 6], [5, 3, 2, 0, 1, 4, 7, 6], [1, 0, 5, 7, 6, 4, 3, 2], [7, 6, 0, 1, 5, 2, 4, 3], [0, 1, 5, 2, 7, 3, 6, 4], [1, 0, 5, 2, 7, 3, 6, 4]]\n",
      "Length of new generation  10\n",
      "Diversity =  67.68344701623877\n",
      "New mutation value =  0.37879397679215693\n",
      "Members left after selection =  10\n",
      "Best member after selection =  [1, 0, 5, 2, 7, 4, 3, 6]\n",
      "Best fitness after selection =  1209\n",
      "crossover_indices =  [3 7 8 0 5 2]\n",
      "adaptive_mutation value passed =  True\n",
      "mutation_indexes =  [1 0 7]\n",
      "New generation members =  [[1, 0, 5, 2, 7, 3, 4, 6], [1, 0, 5, 2, 7, 4, 3, 6], [1, 0, 5, 7, 2, 4, 3, 6], [1, 0, 5, 7, 2, 3, 4, 6], [1, 0, 5, 3, 7, 2, 6, 4], [7, 6, 0, 1, 5, 3, 4, 2], [0, 1, 5, 7, 2, 3, 6, 4], [1, 0, 5, 2, 7, 3, 4, 6], [2, 3, 5, 0, 1, 4, 7, 6], [1, 0, 2, 7, 5, 4, 3, 6]]\n",
      "Length of new generation  10\n",
      "Diversity =  82.3249415426455\n",
      "New mutation value =  0.37449907799525706\n",
      "Members left after selection =  10\n",
      "Best member after selection =  [1, 0, 5, 2, 7, 4, 3, 6]\n",
      "Best fitness after selection =  1209\n",
      "crossover_indices =  [0 8 2 6 1 9]\n",
      "adaptive_mutation value passed =  True\n",
      "mutation_indexes =  [1 8 5]\n",
      "New generation members =  [[1, 0, 5, 2, 7, 4, 3, 6], [1, 0, 5, 7, 2, 3, 4, 6], [1, 0, 5, 2, 7, 3, 4, 6], [1, 0, 5, 2, 7, 3, 4, 6], [1, 2, 5, 0, 7, 3, 4, 6], [0, 3, 2, 5, 1, 4, 7, 6], [1, 0, 5, 7, 2, 3, 6, 4], [0, 1, 5, 7, 2, 4, 3, 6], [1, 0, 7, 2, 4, 5, 3, 6], [1, 0, 2, 5, 7, 4, 3, 6]]\n",
      "Length of new generation  10\n",
      "Diversity =  83.89725263678186\n",
      "New mutation value =  0.3740436442367934\n",
      "Members left after selection =  10\n",
      "Best member after selection =  [1, 0, 5, 2, 7, 4, 3, 6]\n",
      "Best fitness after selection =  1209\n",
      "crossover_indices =  [2 0 4 8 6 5]\n",
      "adaptive_mutation value passed =  True\n",
      "mutation_indexes =  [4 9 2]\n",
      "New generation members =  [[1, 0, 5, 2, 7, 4, 3, 6], [1, 0, 5, 2, 7, 3, 4, 6], [1, 0, 5, 7, 2, 3, 4, 6], [1, 0, 5, 7, 2, 3, 4, 6], [1, 0, 5, 2, 7, 3, 4, 6], [1, 0, 5, 2, 7, 3, 4, 6], [1, 2, 0, 7, 4, 5, 3, 6], [1, 0, 2, 5, 7, 3, 4, 6], [1, 0, 5, 6, 2, 3, 7, 4], [0, 2, 3, 5, 1, 4, 6, 7]]\n",
      "Length of new generation  10\n",
      "Diversity =  90.87677921229383\n",
      "New mutation value =  0.37203526344478166\n",
      "Members left after selection =  10\n",
      "Best member after selection =  [1, 0, 5, 2, 7, 4, 3, 6]\n",
      "Best fitness after selection =  1209\n",
      "crossover_indices =  [9 6 1 4 3 8]\n",
      "adaptive_mutation value passed =  True\n",
      "mutation_indexes =  [5 4 9]\n",
      "New generation members =  [[1, 0, 5, 2, 7, 4, 3, 6], [1, 0, 5, 2, 7, 3, 4, 6], [1, 0, 5, 2, 7, 3, 4, 6], [1, 0, 5, 2, 7, 3, 4, 6], [3, 0, 2, 7, 4, 5, 6, 1], [2, 7, 3, 5, 1, 4, 0, 6], [1, 0, 5, 2, 7, 3, 4, 6], [1, 0, 5, 2, 7, 3, 4, 6], [1, 0, 5, 6, 2, 3, 7, 4], [1, 0, 7, 5, 2, 3, 4, 6]]\n",
      "Length of new generation  10\n",
      "Diversity =  110.32816503504444\n",
      "New mutation value =  0.36655019790861093\n",
      "Members left after selection =  10\n",
      "Best member after selection =  [1, 0, 5, 2, 7, 4, 3, 6]\n",
      "Best fitness after selection =  1209\n",
      "crossover_indices =  [3 8 6 5 7 0]\n",
      "adaptive_mutation value passed =  True\n",
      "mutation_indexes =  [2 6 0]\n",
      "New generation members =  [[1, 0, 5, 2, 7, 3, 4, 6], [1, 0, 5, 2, 7, 3, 4, 6], [1, 0, 5, 2, 3, 7, 4, 6], [1, 0, 5, 2, 7, 3, 4, 6], [1, 0, 5, 2, 7, 3, 6, 4], [1, 0, 5, 6, 2, 3, 7, 4], [1, 5, 4, 2, 7, 3, 0, 6], [2, 7, 3, 5, 1, 0, 4, 6], [1, 0, 5, 2, 7, 4, 3, 6], [1, 0, 5, 2, 7, 3, 4, 6]]\n",
      "Length of new generation  10\n",
      "Diversity =  116.48673744250888\n",
      "New mutation value =  0.3648471058511632\n",
      "Members left after selection =  10\n",
      "Best member after selection =  [1, 0, 5, 2, 7, 4, 3, 6]\n",
      "Best fitness after selection =  1209\n",
      "crossover_indices =  [8 7 2 5 4 9]\n",
      "adaptive_mutation value passed =  True\n",
      "mutation_indexes =  [2 9 4]\n",
      "New generation members =  [[1, 0, 5, 2, 7, 4, 3, 6], [1, 0, 5, 2, 7, 3, 4, 6], [0, 1, 5, 2, 7, 3, 4, 6], [1, 0, 5, 2, 7, 3, 4, 6], [5, 1, 2, 0, 7, 4, 6, 3], [2, 7, 4, 5, 1, 0, 3, 6], [1, 0, 5, 6, 2, 7, 4, 3], [1, 0, 5, 2, 3, 6, 7, 4], [1, 0, 5, 2, 7, 3, 4, 6], [1, 0, 5, 2, 3, 7, 6, 4]]\n",
      "Length of new generation  10\n",
      "Diversity =  72.19515911749208\n",
      "New mutation value =  0.3767149037514821\n",
      "Members left after selection =  10\n",
      "Best member after selection =  [5, 1, 2, 0, 7, 4, 6, 3]\n",
      "Best fitness after selection =  1168\n",
      "crossover_indices =  [4 5 6 8 7 0]\n",
      "adaptive_mutation value passed =  True\n",
      "mutation_indexes =  [9 4 7]\n",
      "New generation members =  [[5, 1, 2, 0, 7, 4, 6, 3], [1, 0, 5, 2, 7, 4, 3, 6], [1, 0, 5, 2, 7, 3, 4, 6], [1, 0, 5, 2, 7, 3, 4, 6], [4, 5, 2, 0, 1, 6, 3, 7], [2, 0, 4, 5, 7, 6, 3, 1], [1, 0, 5, 6, 2, 7, 3, 4], [0, 1, 5, 2, 7, 6, 4, 3], [1, 0, 5, 2, 7, 4, 3, 6], [1, 0, 5, 2, 6, 3, 7, 4]]\n",
      "Length of new generation  10\n",
      "Hall of fame chromosome  [5, 1, 2, 0, 7, 4, 6, 3]  injected to population\n",
      "Diversity =  85.24464285800005\n",
      "New mutation value =  0.3695349382632461\n",
      "Members left after selection =  11\n",
      "Best member after selection =  [0, 1, 5, 2, 7, 6, 4, 3]\n",
      "Best fitness after selection =  1034\n",
      "crossover_indices =  [ 7  8  3 10  2  4]\n",
      "adaptive_mutation value passed =  True\n",
      "mutation_indexes =  [10  3  9  4]\n",
      "New generation members =  [[0, 1, 5, 2, 7, 6, 4, 3], [5, 1, 2, 0, 7, 4, 6, 3], [5, 1, 2, 0, 7, 4, 6, 3], [1, 0, 5, 2, 7, 4, 6, 3], [1, 0, 5, 2, 3, 7, 4, 6], [0, 1, 5, 6, 2, 7, 3, 4], [1, 0, 5, 2, 7, 6, 4, 3], [1, 0, 5, 2, 6, 3, 7, 4], [1, 0, 5, 2, 7, 3, 4, 6], [1, 0, 2, 5, 7, 4, 3, 6], [1, 5, 0, 2, 7, 3, 4, 6]]\n",
      "Length of new generation  11\n",
      "Diversity =  68.16609185025014\n",
      "New mutation value =  0.37316734246617805\n",
      "Members left after selection =  11\n",
      "Best member after selection =  [1, 0, 5, 2, 7, 6, 4, 3]\n",
      "Best fitness after selection =  948\n",
      "crossover_indices =  [1 8 9 2 3 5]\n",
      "adaptive_mutation value passed =  True\n",
      "mutation_indexes =  [ 3 10  5  4]\n",
      "New generation members =  [[1, 0, 5, 2, 7, 6, 4, 3], [1, 0, 5, 2, 7, 4, 6, 3], [0, 1, 5, 2, 7, 6, 4, 3], [1, 5, 2, 0, 7, 4, 6, 3], [0, 1, 5, 2, 6, 7, 4, 3], [5, 0, 2, 1, 7, 6, 4, 3], [0, 1, 5, 2, 7, 3, 4, 6], [1, 0, 2, 5, 7, 4, 3, 6], [5, 1, 2, 0, 7, 4, 6, 3], [1, 0, 5, 4, 2, 7, 6, 3], [0, 1, 5, 6, 4, 7, 3, 2]]\n",
      "Length of new generation  11\n",
      "Diversity =  75.2258607642579\n",
      "New mutation value =  0.3705926663315288\n",
      "Members left after selection =  11\n",
      "Best member after selection =  [1, 0, 5, 2, 7, 6, 4, 3]\n",
      "Best fitness after selection =  948\n",
      "crossover_indices =  [10  8  2  7  0  6]\n",
      "adaptive_mutation value passed =  True\n",
      "mutation_indexes =  [7 8 1 3]\n",
      "New generation members =  [[1, 0, 5, 2, 7, 6, 4, 3], [1, 5, 0, 2, 7, 4, 6, 3], [5, 0, 2, 1, 7, 6, 4, 3], [0, 1, 2, 5, 7, 6, 4, 3], [1, 0, 2, 5, 7, 4, 3, 6], [0, 1, 2, 6, 4, 7, 3, 5], [2, 1, 5, 0, 7, 4, 6, 3], [1, 0, 5, 2, 7, 4, 3, 6], [1, 0, 2, 5, 7, 4, 6, 3], [1, 0, 5, 2, 7, 6, 4, 3], [0, 1, 5, 2, 7, 3, 4, 6]]\n",
      "Length of new generation  11\n",
      "Diversity =  75.62918155665925\n",
      "New mutation value =  0.370446648876638\n",
      "Members left after selection =  11\n",
      "Best member after selection =  [1, 0, 5, 2, 7, 6, 4, 3]\n",
      "Best fitness after selection =  948\n",
      "crossover_indices =  [ 6  0  5  9  7 10]\n",
      "adaptive_mutation value passed =  True\n",
      "mutation_indexes =  [ 4  2 10  5]\n",
      "New generation members =  [[1, 0, 5, 2, 7, 6, 4, 3], [1, 0, 5, 2, 7, 6, 4, 3], [1, 0, 2, 5, 7, 6, 4, 3], [1, 5, 0, 2, 7, 4, 6, 3], [1, 5, 0, 2, 7, 6, 4, 3], [2, 1, 5, 0, 7, 6, 3, 4], [1, 0, 5, 2, 7, 4, 6, 3], [0, 1, 2, 6, 4, 7, 5, 3], [1, 0, 5, 2, 7, 6, 4, 3], [1, 0, 5, 2, 7, 3, 4, 6], [0, 1, 5, 7, 2, 4, 3, 6]]\n",
      "Length of new generation  11\n",
      "Diversity =  53.64912300960263\n",
      "New mutation value =  0.3785756821317206\n",
      "Members left after selection =  11\n",
      "Best member after selection =  [1, 0, 5, 2, 7, 6, 4, 3]\n",
      "Best fitness after selection =  948\n",
      "crossover_indices =  [ 0 10  3  6  1  5]\n",
      "adaptive_mutation value passed =  True\n",
      "mutation_indexes =  [0 7 2 8]\n",
      "New generation members =  [[0, 1, 5, 2, 7, 6, 4, 3], [1, 0, 5, 2, 7, 6, 4, 3], [1, 0, 5, 2, 7, 6, 3, 4], [1, 0, 5, 2, 7, 4, 6, 3], [0, 1, 5, 7, 2, 4, 3, 6], [0, 1, 5, 2, 7, 6, 4, 3], [1, 0, 5, 7, 2, 4, 3, 6], [1, 5, 0, 2, 4, 7, 6, 3], [1, 0, 5, 2, 7, 6, 4, 3], [1, 0, 5, 2, 7, 6, 4, 3], [2, 1, 5, 0, 7, 6, 3, 4]]\n",
      "Length of new generation  11\n",
      "Diversity =  46.50429158677701\n",
      "New mutation value =  0.38129548882586434\n",
      "Members left after selection =  11\n",
      "Best member after selection =  [1, 0, 5, 2, 7, 6, 4, 3]\n",
      "Best fitness after selection =  948\n",
      "crossover_indices =  [ 5  9 10  1  7  0]\n",
      "adaptive_mutation value passed =  True\n",
      "mutation_indexes =  [3 4 2 7]\n",
      "New generation members =  [[1, 0, 5, 2, 7, 6, 4, 3], [1, 0, 5, 2, 7, 6, 4, 3], [1, 0, 5, 2, 7, 6, 3, 4], [1, 0, 5, 2, 4, 7, 6, 3], [1, 0, 2, 5, 7, 6, 4, 3], [1, 0, 5, 2, 7, 6, 4, 3], [0, 1, 5, 2, 7, 6, 4, 3], [2, 1, 5, 0, 7, 6, 3, 4], [1, 0, 5, 2, 7, 6, 3, 4], [1, 5, 0, 2, 4, 7, 6, 3], [0, 1, 5, 2, 7, 6, 4, 3]]\n",
      "Length of new generation  11\n",
      "Diversity =  42.79956957169269\n",
      "New mutation value =  0.3827211997719401\n",
      "Members left after selection =  11\n",
      "Best member after selection =  [1, 0, 5, 2, 7, 6, 4, 3]\n",
      "Best fitness after selection =  948\n",
      "crossover_indices =  [ 3  5 10  2  6  4]\n",
      "adaptive_mutation value passed =  True\n",
      "mutation_indexes =  [4 2 0 8]\n",
      "New generation members =  [[1, 0, 5, 2, 7, 6, 3, 4], [1, 0, 5, 2, 7, 6, 4, 3], [1, 0, 5, 2, 6, 7, 4, 3], [1, 0, 2, 5, 7, 6, 4, 3], [0, 1, 5, 2, 7, 6, 4, 3], [1, 0, 5, 2, 7, 6, 4, 3], [1, 0, 5, 2, 4, 7, 6, 3], [0, 1, 5, 2, 7, 6, 3, 4], [1, 5, 0, 2, 7, 6, 4, 3], [1, 0, 2, 5, 7, 6, 4, 3], [0, 1, 5, 2, 7, 6, 4, 3]]\n",
      "Length of new generation  11\n",
      "Diversity =  36.39203436590563\n",
      "New mutation value =  0.38521238161405996\n",
      "Members left after selection =  11\n",
      "Best member after selection =  [1, 0, 5, 2, 7, 6, 4, 3]\n",
      "Best fitness after selection =  948\n",
      "crossover_indices =  [ 0 10  4  6  7  1]\n",
      "adaptive_mutation value passed =  True\n",
      "mutation_indexes =  [10  6  3  4]\n",
      "New generation members =  [[1, 0, 5, 2, 7, 6, 4, 3], [1, 0, 5, 2, 7, 6, 4, 3], [1, 0, 2, 5, 7, 6, 4, 3], [1, 0, 5, 2, 7, 6, 4, 3], [1, 0, 5, 2, 4, 6, 7, 3], [1, 0, 5, 2, 7, 6, 4, 3], [0, 1, 5, 7, 2, 6, 3, 4], [0, 4, 5, 2, 7, 6, 3, 1], [1, 7, 5, 2, 4, 6, 3, 0], [0, 1, 5, 2, 7, 6, 3, 4], [1, 0, 5, 2, 6, 7, 4, 3]]\n",
      "Length of new generation  11\n",
      "Diversity =  85.01759220433374\n",
      "New mutation value =  0.3670799053778294\n",
      "Members left after selection =  11\n",
      "Best member after selection =  [1, 0, 5, 2, 7, 6, 4, 3]\n",
      "Best fitness after selection =  948\n",
      "crossover_indices =  [ 6  1 10  8  2  5]\n",
      "adaptive_mutation value passed =  True\n",
      "mutation_indexes =  [10  5  7  8]\n",
      "New generation members =  [[1, 0, 5, 2, 7, 6, 4, 3], [1, 0, 5, 2, 7, 6, 4, 3], [1, 0, 5, 2, 7, 6, 4, 3], [1, 0, 5, 2, 7, 6, 4, 3], [0, 1, 5, 7, 2, 6, 3, 4], [0, 1, 5, 2, 7, 6, 3, 4], [1, 0, 5, 7, 2, 6, 3, 4], [7, 1, 5, 2, 6, 0, 4, 3], [1, 0, 5, 2, 6, 4, 3, 7], [1, 0, 2, 5, 7, 6, 4, 3], [1, 5, 0, 2, 7, 6, 4, 3]]\n",
      "Length of new generation  11\n",
      "Diversity =  55.69522355077812\n",
      "New mutation value =  0.3778039300202128\n",
      "Members left after selection =  11\n",
      "Best member after selection =  [1, 0, 5, 2, 7, 6, 4, 3]\n",
      "Best fitness after selection =  948\n",
      "crossover_indices =  [ 2  8  3 10  7  1]\n",
      "adaptive_mutation value passed =  True\n",
      "mutation_indexes =  [9 5 3 0]\n",
      "New generation members =  [[0, 1, 5, 2, 7, 6, 4, 3], [1, 0, 5, 2, 7, 6, 4, 3], [1, 0, 5, 2, 7, 6, 4, 3], [1, 0, 5, 7, 2, 6, 4, 3], [1, 0, 5, 2, 7, 6, 4, 3], [1, 0, 5, 2, 7, 6, 3, 4], [1, 0, 5, 2, 6, 4, 3, 7], [1, 0, 5, 2, 7, 6, 4, 3], [1, 5, 0, 2, 7, 6, 4, 3], [0, 1, 5, 2, 7, 6, 4, 3], [7, 1, 5, 2, 6, 0, 4, 3]]\n",
      "Length of new generation  11\n",
      "Diversity =  51.52449761273688\n",
      "New mutation value =  0.3793803962841139\n",
      "Members left after selection =  11\n",
      "Best member after selection =  [1, 0, 5, 2, 7, 6, 4, 3]\n",
      "Best fitness after selection =  948\n",
      "crossover_indices =  [ 4 10  1  7  0  3]\n",
      "adaptive_mutation value passed =  True\n",
      "mutation_indexes =  [2 9 5 4]\n",
      "New generation members =  [[1, 0, 5, 2, 7, 6, 4, 3], [1, 0, 5, 2, 7, 6, 4, 3], [1, 0, 5, 2, 6, 7, 4, 3], [1, 0, 5, 2, 7, 6, 4, 3], [1, 0, 5, 2, 6, 4, 7, 3], [7, 1, 5, 2, 6, 0, 3, 4], [1, 0, 5, 2, 7, 6, 4, 3], [1, 0, 5, 2, 7, 6, 4, 3], [1, 0, 5, 2, 7, 6, 4, 3], [0, 1, 5, 7, 6, 2, 4, 3], [1, 0, 5, 2, 7, 6, 4, 3]]\n",
      "Length of new generation  11\n",
      "Diversity =  73.70614997374315\n",
      "New mutation value =  0.3711438949542832\n",
      "Members left after selection =  11\n",
      "Best member after selection =  [1, 0, 5, 2, 7, 6, 4, 3]\n",
      "Best fitness after selection =  948\n",
      "crossover_indices =  [ 3  4  2 10  6  9]\n",
      "adaptive_mutation value passed =  True\n",
      "mutation_indexes =  [2 9 1 3]\n",
      "New generation members =  [[1, 0, 5, 2, 7, 6, 4, 3], [1, 0, 5, 2, 7, 6, 3, 4], [1, 0, 5, 2, 7, 6, 3, 4], [1, 0, 5, 2, 6, 7, 4, 3], [1, 0, 5, 2, 7, 6, 4, 3], [0, 5, 2, 4, 7, 6, 3, 1], [0, 5, 2, 7, 6, 4, 3, 1], [1, 0, 5, 2, 7, 6, 4, 3], [1, 0, 5, 2, 6, 7, 4, 3], [1, 0, 7, 5, 6, 2, 4, 3], [0, 1, 5, 2, 7, 6, 4, 3]]\n",
      "Length of new generation  11\n",
      "Diversity =  55.761068581460634\n",
      "New mutation value =  0.37777914672053836\n",
      "Members left after selection =  11\n",
      "Best member after selection =  [1, 0, 5, 2, 7, 6, 4, 3]\n",
      "Best fitness after selection =  948\n",
      "crossover_indices =  [ 0 10  9  1  6  3]\n",
      "adaptive_mutation value passed =  True\n",
      "mutation_indexes =  [ 4  1 10  2]\n",
      "New generation members =  [[1, 0, 5, 2, 7, 6, 4, 3], [1, 5, 0, 2, 7, 6, 4, 3], [1, 0, 5, 2, 7, 4, 6, 3], [0, 1, 5, 2, 7, 6, 4, 3], [1, 5, 0, 2, 7, 6, 4, 3], [0, 1, 5, 2, 7, 6, 4, 3], [1, 0, 5, 2, 7, 6, 4, 3], [1, 0, 7, 2, 6, 5, 4, 3], [1, 0, 2, 5, 7, 6, 3, 4], [0, 5, 7, 2, 6, 4, 3, 1], [1, 0, 7, 5, 6, 2, 4, 3]]\n",
      "Length of new generation  11\n",
      "Diversity =  57.58980834787266\n",
      "New mutation value =  0.37709212727901864\n",
      "Members left after selection =  11\n",
      "Best member after selection =  [1, 0, 5, 2, 7, 6, 4, 3]\n",
      "Best fitness after selection =  948\n",
      "crossover_indices =  [10  5  9  8  2  7]\n",
      "adaptive_mutation value passed =  True\n",
      "mutation_indexes =  [2 3 6 8]\n",
      "New generation members =  [[1, 0, 5, 2, 7, 6, 4, 3], [1, 0, 5, 2, 7, 6, 4, 3], [1, 0, 5, 7, 2, 4, 6, 3], [1, 5, 2, 0, 7, 6, 4, 3], [1, 0, 7, 2, 6, 5, 4, 3], [1, 0, 7, 5, 6, 2, 4, 3], [0, 1, 5, 7, 2, 6, 4, 3], [5, 0, 7, 2, 6, 4, 3, 1], [1, 5, 2, 0, 6, 7, 3, 4], [1, 0, 5, 2, 7, 4, 6, 3], [1, 0, 7, 2, 6, 5, 4, 3]]\n",
      "Length of new generation  11\n",
      "Diversity =  79.5775000386208\n",
      "New mutation value =  0.3690232610053724\n",
      "Members left after selection =  11\n",
      "Best member after selection =  [1, 0, 5, 2, 7, 6, 4, 3]\n",
      "Best fitness after selection =  948\n",
      "crossover_indices =  [ 6  5  3 10  7  2]\n",
      "adaptive_mutation value passed =  True\n",
      "mutation_indexes =  [ 9  3 10  1]\n",
      "New generation members =  [[1, 0, 5, 2, 7, 6, 4, 3], [1, 5, 0, 2, 7, 6, 4, 3], [1, 0, 5, 2, 7, 4, 6, 3], [0, 1, 5, 7, 2, 4, 6, 3], [1, 0, 5, 2, 7, 6, 4, 3], [0, 1, 5, 7, 6, 2, 4, 3], [1, 0, 7, 5, 2, 6, 4, 3], [1, 0, 7, 2, 6, 5, 4, 3], [1, 5, 2, 0, 7, 6, 4, 3], [6, 0, 5, 7, 2, 4, 1, 3], [1, 0, 7, 2, 6, 4, 3, 5]]\n",
      "Length of new generation  11\n",
      "Diversity =  70.51438141596601\n",
      "New mutation value =  0.37230696681261\n",
      "Members left after selection =  11\n",
      "Best member after selection =  [1, 0, 5, 2, 7, 6, 4, 3]\n",
      "Best fitness after selection =  948\n",
      "crossover_indices =  [6 3 4 7 2 0]\n",
      "adaptive_mutation value passed =  True\n",
      "mutation_indexes =  [ 1 10  0  5]\n",
      "New generation members =  [[1, 0, 5, 2, 6, 7, 4, 3], [1, 0, 5, 2, 7, 6, 3, 4], [1, 0, 5, 2, 7, 4, 6, 3], [1, 0, 7, 5, 2, 6, 4, 3], [1, 0, 7, 5, 2, 6, 4, 3], [0, 5, 1, 7, 2, 6, 4, 3], [1, 0, 7, 5, 2, 4, 6, 3], [1, 0, 7, 2, 6, 5, 4, 3], [1, 0, 5, 2, 7, 6, 4, 3], [1, 0, 5, 2, 7, 6, 4, 3], [1, 0, 2, 5, 7, 4, 6, 3]]\n",
      "Length of new generation  11\n",
      "Diversity =  53.02009031924178\n",
      "New mutation value =  0.37881357593838794\n",
      "Members left after selection =  11\n",
      "Best member after selection =  [1, 0, 5, 2, 7, 6, 4, 3]\n",
      "Best fitness after selection =  948\n",
      "crossover_indices =  [ 5  1  9  7 10  8]\n",
      "adaptive_mutation value passed =  True\n",
      "mutation_indexes =  [3 4 9 6]\n",
      "New generation members =  [[1, 0, 5, 2, 7, 6, 4, 3], [1, 0, 5, 2, 7, 6, 4, 3], [0, 5, 1, 7, 2, 6, 4, 3], [0, 1, 5, 2, 7, 4, 6, 3], [1, 0, 7, 5, 2, 4, 6, 3], [0, 5, 1, 7, 2, 6, 3, 4], [1, 0, 5, 2, 7, 6, 3, 4], [1, 0, 7, 2, 5, 6, 4, 3], [1, 0, 5, 2, 6, 7, 4, 3], [1, 0, 5, 7, 2, 6, 4, 3], [1, 0, 2, 5, 7, 4, 6, 3]]\n",
      "Length of new generation  11\n",
      "Diversity =  30.275072502411884\n",
      "New mutation value =  0.3876210389681223\n",
      "Members left after selection =  11\n",
      "Best member after selection =  [1, 0, 5, 2, 7, 6, 4, 3]\n",
      "Best fitness after selection =  948\n",
      "crossover_indices =  [4 8 1 7 0 6]\n",
      "adaptive_mutation value passed =  True\n",
      "mutation_indexes =  [ 3 10  6  5]\n",
      "New generation members =  [[1, 0, 5, 2, 7, 6, 4, 3], [1, 0, 5, 2, 7, 6, 4, 3], [1, 0, 5, 7, 2, 6, 4, 3], [5, 0, 1, 7, 2, 6, 4, 3], [1, 0, 5, 2, 7, 6, 3, 4], [1, 4, 0, 5, 6, 7, 2, 3], [1, 0, 5, 6, 4, 2, 7, 3], [1, 0, 7, 2, 5, 6, 4, 3], [1, 0, 5, 2, 7, 6, 4, 3], [1, 0, 5, 2, 7, 6, 4, 3], [1, 0, 5, 2, 6, 7, 3, 4]]\n",
      "Length of new generation  11\n",
      "Diversity =  73.14087967401748\n",
      "New mutation value =  0.37134934811448683\n",
      "Members left after selection =  11\n",
      "Best member after selection =  [1, 0, 5, 2, 7, 6, 4, 3]\n",
      "Best fitness after selection =  948\n",
      "crossover_indices =  [ 7  2 10  9  5  3]\n",
      "adaptive_mutation value passed =  True\n",
      "mutation_indexes =  [0 6 9 5]\n",
      "New generation members =  [[1, 0, 5, 2, 6, 7, 4, 3], [1, 0, 5, 2, 7, 6, 4, 3], [1, 0, 5, 2, 7, 6, 4, 3], [1, 0, 5, 2, 7, 6, 4, 3], [1, 0, 5, 2, 7, 6, 4, 3], [1, 0, 7, 5, 2, 6, 4, 3], [0, 1, 7, 5, 2, 6, 4, 3], [1, 0, 5, 2, 7, 6, 4, 3], [1, 0, 5, 2, 6, 7, 3, 4], [0, 7, 1, 2, 6, 4, 3, 5], [4, 0, 5, 6, 2, 7, 3, 1]]\n",
      "Length of new generation  11\n",
      "Diversity =  96.4557255284913\n",
      "New mutation value =  0.36305990836339763\n",
      "Members left after selection =  11\n",
      "Best member after selection =  [1, 0, 5, 2, 7, 6, 4, 3]\n",
      "Best fitness after selection =  948\n",
      "crossover_indices =  [10  9  8  2  6  1]\n",
      "adaptive_mutation value passed =  True\n",
      "mutation_indexes =  [8 5 7]\n",
      "New generation members =  [[1, 0, 5, 2, 7, 6, 4, 3], [1, 0, 5, 2, 7, 6, 4, 3], [1, 0, 5, 2, 7, 6, 4, 3], [1, 0, 5, 2, 7, 6, 4, 3], [1, 0, 5, 2, 7, 6, 4, 3], [4, 0, 5, 6, 7, 2, 3, 1], [0, 7, 1, 2, 6, 4, 3, 5], [1, 5, 0, 2, 7, 6, 3, 4], [1, 0, 2, 5, 6, 7, 4, 3], [1, 0, 5, 2, 7, 6, 4, 3], [0, 1, 7, 5, 2, 6, 4, 3]]\n",
      "Length of new generation  11\n",
      "Hall of fame chromosome  [1, 0, 5, 2, 7, 6, 4, 3]  injected to population\n",
      "Diversity =  86.71113642754058\n",
      "New mutation value =  0.3664790941646107\n",
      "Members left after selection =  12\n",
      "Best member after selection =  [1, 0, 5, 2, 7, 6, 4, 3]\n",
      "Best fitness after selection =  948\n",
      "crossover_indices =  [ 5 10 11  2  6  4  8  1]\n",
      "adaptive_mutation value passed =  True\n",
      "mutation_indexes =  [11  5  9  1]\n",
      "New generation members =  [[1, 0, 5, 2, 7, 6, 4, 3], [0, 1, 5, 2, 7, 6, 4, 3], [1, 0, 5, 2, 7, 6, 4, 3], [1, 0, 5, 2, 7, 6, 4, 3], [1, 0, 5, 2, 7, 6, 4, 3], [1, 0, 2, 5, 7, 6, 4, 3], [0, 1, 7, 5, 2, 6, 4, 3], [1, 0, 5, 2, 7, 6, 4, 3], [4, 0, 5, 1, 2, 7, 6, 3], [1, 0, 5, 6, 4, 7, 2, 3], [1, 0, 5, 2, 7, 6, 3, 4], [1, 5, 0, 2, 7, 6, 3, 4]]\n",
      "Length of new generation  12\n",
      "Best fitness in this generation =  ([1, 0, 5, 2, 7, 6, 4, 3], 948)\n",
      "Best among all generations =  ([1, 0, 5, 2, 7, 6, 4, 3], 948)\n",
      "Top fittest chromosomes of this generation:  [([1, 0, 5, 2, 7, 6, 4, 3], 948), ([1, 0, 5, 2, 7, 6, 4, 3], 948), ([1, 0, 5, 2, 7, 6, 4, 3], 948), ([1, 0, 5, 2, 7, 6, 4, 3], 948), ([1, 0, 5, 2, 7, 6, 4, 3], 948), ([1, 0, 5, 2, 7, 6, 4, 3], 948), ([1, 0, 5, 2, 7, 6, 4, 3], 948), ([0, 1, 7, 5, 2, 6, 4, 3], 954), ([1, 5, 0, 2, 7, 6, 3, 4], 1251), ([1, 0, 2, 5, 6, 7, 4, 3], 1329)]\n"
     ]
    }
   ],
   "source": [
    "ga.evolve(100)"
   ]
  },
  {
   "cell_type": "markdown",
   "metadata": {},
   "source": [
    "We can get the best member by using the `best_fitness` attribute of the `GAEngine`. \n",
    "It returns a tuple having\n",
    "* chromsome having best fitness\n",
    "* best fitness value"
   ]
  },
  {
   "cell_type": "code",
   "execution_count": 12,
   "metadata": {},
   "outputs": [
    {
     "name": "stdout",
     "output_type": "stream",
     "text": [
      "([1, 0, 5, 2, 7, 6, 4, 3], 948)\n"
     ]
    }
   ],
   "source": [
    "best = ga.best_fitness\n",
    "print(best)"
   ]
  },
  {
   "cell_type": "markdown",
   "metadata": {},
   "source": [
    "## 5. Plotting the Statistics\n",
    "\n",
    "- The functionality for plotting the best, worst, average fitness values across iterations is present in `plot_statistics` function of statistics.py module. The function takes a list of attributes to be plotted.\n",
    "- These attributes can be `best-fitness`,`worst-fitness`,`avg-fitness`, `'diversity`, `mutation_rate`\n",
    "- The diversity and mutation rate values over iterations can also be visualized "
   ]
  },
  {
   "cell_type": "code",
   "execution_count": 13,
   "metadata": {},
   "outputs": [
    {
     "name": "stdout",
     "output_type": "stream",
     "text": [
      "best-fitness [1628, 1628, 1348, 1339, 1339, 1339, 1339, 1329, 1243, 1243, 1209, 1209, 1209, 1209, 1209, 1209, 1209, 1209, 1209, 1168, 1034, 948, 948, 948, 948, 948, 948, 948, 948, 948, 948, 948, 948, 948, 948, 948, 948, 948, 948, 948, 948]\n",
      "worst-fitness [2212, 2229, 2387, 2388, 2152, 2184, 2061, 2033, 1967, 1965, 2058, 1959, 1963, 1963, 1904, 1941, 1927, 2142, 2324, 1962, 1954, 1659, 1815, 1860, 1446, 1324, 1318, 1281, 1909, 1457, 1457, 1735, 1576, 1553, 1659, 1553, 1553, 1212, 1643, 1938, 1928]\n",
      "avg-fitness [1919.7, 1897.2, 1869.9, 1853.9, 1756.5, 1723.6, 1699.0, 1650.8, 1618.4, 1589.9, 1619.9, 1406.3, 1378.3, 1350.9, 1443.8, 1388.9, 1431.9, 1466.4, 1504.0, 1373.7, 1375.6363636363637, 1256.3636363636363, 1217.6363636363637, 1160.6363636363637, 1106.8181818181818, 1115.3636363636363, 1107.2727272727273, 1082.0, 1200.090909090909, 1125.090909090909, 1074.8181818181818, 1107.2727272727273, 1171.090909090909, 1124.090909090909, 1216.0, 1165.8181818181818, 1072.5454545454545, 1053.2727272727273, 1134.2727272727273, 1164.3636363636363, 1132.25]\n"
     ]
    },
    {
     "data": {
      "image/png": "[encoded data removed]",
      "text/plain": [
       "<Figure size 432x288 with 1 Axes>"
      ]
     },
     "metadata": {},
     "output_type": "display_data"
    },
    {
     "name": "stdout",
     "output_type": "stream",
     "text": [
      "diversity [66.12867003047921, 59.457009679263216, 97.93093995260128, 91.11733644043817, 80.11070465299878, 81.6535608531557, 68.18988194739744, 57.20363624805682, 56.969325079379345, 61.58497381667057, 88.27043106272905, 69.38992001724746, 84.13216388516345, 67.68344701623877, 82.3249415426455, 83.89725263678186, 90.87677921229383, 110.32816503504444, 116.48673744250888, 72.19515911749208, 85.24464285800005, 68.16609185025014, 75.2258607642579, 75.62918155665925, 53.64912300960263, 46.50429158677701, 42.79956957169269, 36.39203436590563, 85.01759220433374, 55.69522355077812, 51.52449761273688, 73.70614997374315, 55.761068581460634, 57.58980834787266, 79.5775000386208, 70.51438141596601, 53.02009031924178, 30.275072502411884, 73.14087967401748, 96.4557255284913, 86.71113642754058]\n"
     ]
    },
    {
     "data": {
      "image/png": "[encoded data removed]",
      "text/plain": [
       "<Figure size 432x288 with 1 Axes>"
      ]
     },
     "metadata": {},
     "output_type": "display_data"
    },
    {
     "name": "stdout",
     "output_type": "stream",
     "text": [
      "mutation_rate [0.38438638783456996, 0.38590612754263554, 0.3729085429333682, 0.3745147243184314, 0.3774194629382104, 0.3770095783790892, 0.3806167219300838, 0.3834934392747992, 0.382470563272437, 0.38111737447458144, 0.37278272010241764, 0.37828833943987566, 0.37397569521977037, 0.37879397679215693, 0.37449907799525706, 0.3740436442367934, 0.37203526344478166, 0.36655019790861093, 0.3648471058511632, 0.3767149037514821, 0.3695349382632461, 0.37316734246617805, 0.3705926663315288, 0.370446648876638, 0.3785756821317206, 0.38129548882586434, 0.3827211997719401, 0.38521238161405996, 0.3670799053778294, 0.3778039300202128, 0.3793803962841139, 0.3711438949542832, 0.37777914672053836, 0.37709212727901864, 0.3690232610053724, 0.37230696681261, 0.37881357593838794, 0.3876210389681223, 0.37134934811448683, 0.36305990836339763, 0.3664790941646107]\n"
     ]
    },
    {
     "data": {
      "image/png": "[encoded data removed]",
      "text/plain": [
       "<Figure size 432x288 with 1 Axes>"
      ]
     },
     "metadata": {},
     "output_type": "display_data"
    }
   ],
   "source": [
    "import matplotlib.pyplot as plt\n",
    "fig = ga.statistics.plot_statistics(['best-fitness','worst-fitness','avg-fitness'])\n",
    "plt.show()\n",
    "fig = ga.statistics.plot_statistics(['diversity'])\n",
    "plt.show()\n",
    "fig = ga.statistics.plot_statistics(['mutation_rate'])\n",
    "plt.show()"
   ]
  }
 ],
 "metadata": {
  "anaconda-cloud": {},
  "kernelspec": {
   "display_name": "Python 3",
   "language": "python",
   "name": "python3"
  },
  "language_info": {
   "codemirror_mode": {
    "name": "ipython",
    "version": 3
   },
   "file_extension": ".py",
   "mimetype": "text/x-python",
   "name": "python",
   "nbconvert_exporter": "python",
   "pygments_lexer": "ipython3",
   "version": "3.6.5"
  }
 },
 "nbformat": 4,
 "nbformat_minor": 1
}
