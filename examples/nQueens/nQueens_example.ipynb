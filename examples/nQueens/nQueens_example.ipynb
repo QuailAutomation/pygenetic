{
 "cells": [
  {
   "cell_type": "markdown",
   "metadata": {},
   "source": [
    "# Usage of PyGenetic to solve N-Queens\n",
    "\n",
    "#### In this example we are going to walk through the usage of GAEngine to solve the N-Queens problem \n",
    "#### The objective would be to place queens on single board such that all are in safe position\n",
    "#### Each configuration of board represents a potential candidate solution for the problem\n",
    "#### But to find  the optimal solution each candidate will be tested for fitness value which would represent the number of queens safely placed on board . The operations for performing selection, crossover and mutation are present in Utils.py module under respective classes . There is also support for adaptively changing mutation after every iteration which is represented by adaptive mutation instance  variable of GAEngine. Changing mutation rate helps increase the diversity of candidates which can lead to finding optimal solutions quicker. The number of iterations can be set by user."
   ]
  },
  {
   "cell_type": "code",
   "execution_count": 2,
   "metadata": {
    "collapsed": false
   },
   "outputs": [],
   "source": [
    "import sys \n",
    "sys.path.append('../../pyGenetic/')\n",
    "\n",
    "import GAEngine, ChromosomeFactory, Utils,Statistics\n",
    "import matplotlib.pyplot as plt\n"
   ]
  },
  {
   "cell_type": "markdown",
   "metadata": {},
   "source": [
    "### Fitness function for n Queens\n",
    "- Higher fitness value corresponds to higher number of queens safely placed on board"
   ]
  },
  {
   "cell_type": "code",
   "execution_count": 3,
   "metadata": {
    "collapsed": false,
    "scrolled": true
   },
   "outputs": [],
   "source": [
    "def fitness(board):\n",
    "\t\tfitness = 0\n",
    "\t\tfor i in range(len(board)):\n",
    "\t\t\tisSafe = True\n",
    "\t\t\tfor j in range(len(board)):\n",
    "\t\t\t\tif i!=j:\n",
    "\t\t\t\t\tif (board[i] == board[j]) or (abs(board[i] - board[j]) == abs(i-j)):\n",
    "\t\t\t\t\t\tisSafe = False\n",
    "\t\t\t\t\t\tbreak\n",
    "\t\t\tif(isSafe==True):\n",
    "\t\t\t\tfitness += 1\n",
    "\t\treturn fitness\n",
    "\n",
    "    \n"
   ]
  },
  {
   "cell_type": "markdown",
   "metadata": {},
   "source": [
    "### Usage of modules from pygenetic to solve the nqueens\n",
    "- ChromosomeRangeFactory generates the initial population of candidate solutions\n",
    "- Here the noOfGenes are 14 corresponding to the 14 by 14 dimensions of chess board\n",
    "- GAEngine is the main driver class that calls the operations necessary\n",
    "- In below case the population size for each iteration is 100"
   ]
  },
  {
   "cell_type": "code",
   "execution_count": 4,
   "metadata": {
    "collapsed": true
   },
   "outputs": [
    {
     "name": "stdout",
     "output_type": "stream",
     "text": [
      "First men =  [[1, 9, 8, 2, 3, 6, 4, 5, 13, 11, 10, 14, 7, 12], [13, 5, 11, 10, 12, 3, 4, 1, 14, 8, 9, 6, 7, 2], [5, 14, 12, 8, 3, 1, 13, 6, 11, 9, 7, 4, 10, 2], [3, 6, 1, 4, 12, 14, 9, 5, 8, 7, 10, 11, 13, 2], [14, 5, 9, 6, 2, 13, 11, 12, 7, 4, 10, 8, 1, 3], [2, 3, 5, 7, 8, 9, 4, 10, 14, 11, 1, 13, 6, 12], [4, 13, 11, 9, 2, 7, 5, 6, 3, 1, 12, 14, 8, 10], [2, 7, 1, 12, 8, 5, 10, 14, 6, 3, 4, 9, 11, 13], [8, 13, 9, 7, 1, 10, 5, 3, 14, 2, 12, 11, 6, 4], [2, 12, 11, 4, 14, 8, 10, 13, 1, 3, 6, 5, 7, 9], [11, 9, 3, 4, 12, 14, 8, 13, 2, 10, 7, 6, 1, 5], [7, 13, 4, 1, 9, 10, 6, 8, 3, 2, 12, 5, 14, 11], [6, 7, 10, 4, 12, 2, 14, 11, 13, 3, 1, 9, 8, 5], [9, 11, 6, 2, 8, 5, 7, 13, 4, 3, 10, 1, 14, 12], [6, 13, 1, 4, 12, 2, 8, 9, 11, 7, 14, 5, 10, 3], [1, 10, 8, 6, 3, 14, 4, 2, 12, 5, 11, 7, 13, 9], [13, 9, 7, 11, 2, 12, 1, 10, 4, 3, 8, 6, 5, 14], [13, 7, 12, 1, 3, 10, 2, 11, 9, 6, 4, 5, 14, 8], [7, 12, 11, 8, 4, 5, 10, 1, 9, 3, 14, 2, 6, 13], [4, 12, 1, 2, 3, 11, 10, 9, 8, 6, 5, 13, 14, 7], [12, 9, 6, 4, 10, 2, 13, 5, 14, 11, 1, 7, 8, 3], [8, 2, 10, 5, 6, 4, 7, 11, 14, 13, 12, 1, 3, 9], [2, 7, 5, 10, 1, 4, 9, 14, 13, 6, 11, 8, 3, 12], [1, 3, 4, 7, 14, 11, 13, 6, 10, 12, 5, 9, 8, 2], [3, 8, 5, 13, 10, 4, 6, 7, 12, 2, 14, 9, 11, 1], [1, 8, 6, 10, 13, 14, 11, 12, 7, 4, 3, 9, 5, 2], [8, 3, 9, 12, 14, 10, 13, 11, 1, 4, 2, 5, 6, 7], [13, 1, 7, 8, 12, 6, 11, 10, 2, 5, 9, 14, 4, 3], [10, 14, 1, 4, 11, 9, 12, 2, 6, 5, 8, 3, 7, 13], [5, 12, 9, 8, 10, 3, 7, 14, 2, 1, 13, 11, 4, 6], [13, 9, 11, 7, 14, 6, 3, 5, 10, 4, 12, 2, 1, 8], [6, 7, 8, 9, 12, 1, 14, 4, 11, 3, 5, 2, 10, 13], [10, 8, 12, 5, 1, 7, 2, 9, 4, 13, 3, 14, 11, 6], [5, 13, 3, 2, 11, 6, 10, 8, 12, 14, 7, 4, 1, 9], [9, 11, 13, 12, 8, 1, 6, 4, 14, 10, 5, 7, 3, 2], [9, 11, 14, 6, 1, 5, 8, 7, 13, 4, 3, 10, 12, 2], [11, 9, 2, 1, 12, 5, 3, 10, 14, 7, 13, 6, 4, 8], [3, 12, 1, 13, 7, 14, 4, 10, 5, 8, 11, 6, 9, 2], [6, 10, 4, 1, 2, 5, 3, 7, 13, 8, 14, 9, 11, 12], [4, 12, 1, 2, 7, 6, 8, 10, 11, 3, 13, 9, 5, 14], [9, 6, 1, 11, 2, 14, 3, 12, 8, 7, 10, 13, 5, 4], [9, 14, 11, 8, 4, 2, 10, 5, 3, 12, 13, 7, 6, 1], [6, 5, 2, 4, 11, 9, 10, 1, 12, 7, 14, 8, 3, 13], [10, 14, 5, 12, 4, 13, 2, 7, 6, 8, 9, 3, 1, 11], [9, 10, 12, 4, 11, 13, 6, 8, 1, 2, 7, 14, 5, 3], [9, 7, 14, 12, 3, 10, 6, 13, 4, 11, 1, 5, 8, 2], [2, 9, 14, 8, 13, 12, 7, 1, 10, 6, 4, 5, 11, 3], [3, 7, 11, 9, 2, 14, 12, 8, 13, 10, 5, 4, 6, 1], [4, 7, 8, 13, 1, 11, 9, 2, 12, 10, 3, 14, 5, 6], [1, 10, 2, 5, 9, 3, 4, 13, 11, 12, 7, 14, 6, 8], [2, 12, 6, 9, 10, 1, 5, 14, 7, 13, 4, 8, 3, 11], [11, 3, 9, 4, 1, 5, 12, 6, 10, 2, 14, 8, 13, 7], [10, 2, 5, 8, 7, 14, 12, 3, 6, 13, 11, 1, 9, 4], [7, 6, 11, 2, 3, 10, 9, 4, 1, 12, 5, 13, 14, 8], [12, 7, 8, 5, 13, 3, 6, 10, 4, 11, 1, 14, 2, 9], [12, 11, 1, 2, 9, 13, 14, 3, 5, 8, 4, 7, 10, 6], [10, 7, 2, 12, 4, 9, 8, 14, 11, 1, 13, 3, 6, 5], [14, 4, 1, 12, 2, 10, 7, 6, 3, 9, 5, 11, 13, 8], [6, 8, 10, 12, 14, 1, 9, 2, 5, 7, 4, 13, 3, 11], [10, 3, 13, 11, 9, 4, 5, 2, 6, 1, 7, 8, 12, 14], [11, 7, 4, 10, 12, 3, 5, 2, 1, 9, 14, 13, 8, 6], [8, 10, 3, 4, 12, 6, 1, 11, 5, 14, 7, 2, 13, 9], [10, 9, 2, 11, 4, 12, 1, 8, 6, 3, 5, 14, 13, 7], [1, 14, 5, 3, 11, 6, 10, 9, 4, 8, 12, 13, 7, 2], [9, 12, 6, 14, 11, 13, 10, 5, 1, 7, 3, 2, 4, 8], [7, 5, 14, 6, 10, 2, 12, 9, 13, 4, 8, 11, 1, 3], [14, 10, 11, 5, 3, 4, 7, 13, 1, 8, 2, 6, 12, 9], [2, 12, 10, 7, 5, 13, 8, 4, 1, 14, 9, 11, 6, 3], [2, 8, 11, 7, 9, 6, 1, 13, 4, 12, 14, 5, 10, 3], [6, 12, 13, 10, 9, 3, 4, 11, 14, 1, 2, 8, 5, 7], [11, 4, 13, 2, 8, 6, 1, 12, 10, 9, 5, 7, 3, 14], [3, 11, 4, 10, 7, 12, 5, 9, 14, 13, 2, 6, 1, 8], [12, 6, 5, 7, 14, 9, 13, 4, 8, 3, 1, 10, 11, 2], [12, 7, 2, 11, 13, 1, 3, 4, 14, 10, 6, 8, 5, 9], [12, 14, 10, 7, 4, 2, 9, 13, 5, 6, 8, 1, 11, 3], [3, 11, 10, 7, 14, 12, 4, 6, 9, 13, 2, 5, 1, 8], [2, 1, 8, 3, 9, 6, 10, 12, 5, 11, 4, 14, 7, 13], [1, 5, 2, 6, 9, 11, 12, 7, 3, 14, 4, 10, 8, 13], [6, 10, 3, 4, 13, 5, 1, 2, 7, 12, 11, 14, 8, 9], [8, 14, 12, 13, 7, 3, 11, 10, 6, 4, 2, 5, 1, 9], [5, 7, 14, 4, 9, 8, 1, 13, 2, 3, 11, 10, 6, 12], [1, 14, 13, 12, 10, 8, 5, 6, 9, 7, 11, 3, 2, 4], [13, 2, 9, 11, 5, 3, 10, 14, 4, 12, 7, 6, 1, 8], [12, 9, 14, 5, 11, 13, 10, 2, 3, 7, 4, 1, 6, 8], [12, 6, 8, 10, 5, 1, 14, 4, 3, 7, 9, 11, 13, 2], [6, 2, 1, 7, 9, 10, 13, 3, 4, 8, 14, 5, 12, 11], [8, 13, 6, 11, 14, 9, 3, 12, 1, 4, 7, 5, 2, 10], [8, 10, 6, 4, 3, 7, 13, 14, 5, 1, 9, 12, 11, 2], [1, 5, 4, 9, 13, 12, 3, 14, 7, 2, 8, 11, 10, 6], [1, 6, 3, 2, 9, 8, 5, 4, 7, 10, 14, 11, 13, 12], [2, 10, 3, 13, 12, 9, 1, 14, 11, 4, 7, 5, 8, 6], [7, 2, 8, 12, 11, 10, 5, 9, 3, 6, 13, 14, 4, 1], [14, 13, 1, 6, 9, 10, 2, 11, 7, 8, 12, 5, 4, 3], [6, 14, 3, 7, 2, 13, 12, 5, 11, 10, 4, 1, 8, 9], [8, 12, 2, 3, 7, 9, 4, 13, 10, 6, 11, 14, 1, 5], [6, 8, 9, 3, 13, 11, 2, 1, 7, 10, 12, 4, 14, 5], [5, 10, 12, 3, 1, 13, 8, 6, 11, 9, 7, 4, 2, 14], [5, 9, 7, 3, 1, 8, 6, 12, 10, 14, 13, 4, 11, 2], [14, 2, 3, 1, 4, 11, 6, 12, 9, 8, 7, 13, 10, 5], [14, 5, 2, 11, 7, 6, 4, 12, 13, 3, 1, 9, 10, 8]]\n"
     ]
    }
   ],
   "source": [
    "factory = ChromosomeFactory.ChromosomeRangeFactory(14,1,15)\n",
    "ga = GAEngine.GAEngine(factory,100,fitness_type=('equal',14),mut_prob = 0.3)\n",
    "#ga.addCrossoverHandler(Utils.CrossoverHandlers.PMX, 9)\n",
    "\n",
    "\n"
   ]
  },
  {
   "cell_type": "markdown",
   "metadata": {},
   "source": [
    "- The functions for performing crossover , mutation, selection and fitness function are present in Utils.py module as static methods \n",
    "- Here we register the specific operations to be used by GAEngine "
   ]
  },
  {
   "cell_type": "code",
   "execution_count": 6,
   "metadata": {
    "collapsed": false
   },
   "outputs": [],
   "source": [
    "ga.addCrossoverHandler(Utils.CrossoverHandlers.distinct, 4)\n",
    "#ga.addCrossoverHandler(Utils.CrossoverHandlers.OX, 3)\n",
    "ga.addMutationHandler(Utils.MutationHandlers.swap)\n",
    "ga.setSelectionHandler(Utils.SelectionHandlers.largest)\n",
    "ga.setFitnessHandler(fitness)"
   ]
  },
  {
   "cell_type": "markdown",
   "metadata": {},
   "source": [
    "- Calling the evolve function defined in Evolution.py module to perform each iteration\n",
    "- function expects the number of iterations to be performed as argument , here 100"
   ]
  },
  {
   "cell_type": "code",
   "execution_count": 7,
   "metadata": {
    "collapsed": false,
    "scrolled": true
   },
   "outputs": [
    {
     "name": "stdout",
     "output_type": "stream",
     "text": [
      "mutation_handlers_weights =  [0.5, 1.0]\n",
      "crossover_handlers_weights =  [0.5, 1.0]\n",
      "Best member =  [12, 6, 8, 10, 5, 1, 14, 4, 3, 7, 9, 11, 13, 2]\n",
      "Best fitness =  10\n",
      "Diversity =  0.17254567626614306\n",
      "Adaptive mutation value =  0.589822861547702\n",
      "Best member =  [12, 6, 8, 10, 5, 1, 14, 4, 3, 7, 9, 11, 13, 2]\n",
      "Best fitness =  10\n",
      "Diversity =  0.12733632189230076\n",
      "Adaptive mutation value =  0.5924558846761885\n",
      "Best member =  [2, 1, 8, 3, 7, 4, 14, 11, 13, 6, 10, 12, 5, 9]\n",
      "Best fitness =  9\n",
      "Diversity =  0.10352579295301559\n",
      "Adaptive mutation value =  0.5931767672015722\n",
      "Best member =  [11, 7, 4, 10, 12, 2, 9, 6, 1, 14, 5, 3, 8, 13]\n",
      "Best fitness =  10\n",
      "Diversity =  0.10231523725809065\n",
      "Adaptive mutation value =  0.5939232600732506\n",
      "Best member =  [9, 11, 8, 2, 7, 13, 1, 14, 6, 10, 12, 5, 4, 3]\n",
      "Best fitness =  11\n",
      "Diversity =  0.10064948737997452\n",
      "Adaptive mutation value =  0.5945598054873599\n",
      "Best member =  [9, 11, 8, 2, 7, 13, 1, 14, 6, 10, 12, 5, 4, 3]\n",
      "Best fitness =  11\n",
      "Diversity =  0.09815481867479993\n",
      "Adaptive mutation value =  0.5946934520046718\n",
      "Best member =  [11, 7, 4, 10, 12, 2, 9, 6, 1, 14, 5, 3, 8, 13]\n",
      "Best fitness =  10\n",
      "Diversity =  0.10000363731364795\n",
      "Adaptive mutation value =  0.5940591920020191\n",
      "Best member =  [14, 1, 5, 10, 12, 7, 4, 2, 9, 13, 6, 8, 3, 11]\n",
      "Best fitness =  10\n",
      "Diversity =  0.1001474327337953\n",
      "Adaptive mutation value =  0.5940507344035855\n",
      "Best member =  [14, 5, 9, 6, 1, 11, 2, 12, 7, 3, 10, 8, 13, 4]\n",
      "Best fitness =  11\n",
      "Diversity =  0.09467709511449247\n",
      "Adaptive mutation value =  0.5948798638678984\n",
      "Best member =  [8, 5, 9, 12, 3, 10, 7, 2, 14, 1, 4, 13, 11, 6]\n",
      "Best fitness =  10\n",
      "Diversity =  0.09391792407358406\n",
      "Adaptive mutation value =  0.5944173555929402\n",
      "Best member =  [14, 5, 9, 6, 1, 11, 2, 12, 7, 10, 3, 13, 8, 4]\n",
      "Best fitness =  10\n",
      "Diversity =  0.09508165816599201\n",
      "Adaptive mutation value =  0.594348832745355\n",
      "Best member =  [14, 5, 9, 6, 1, 11, 2, 12, 7, 3, 10, 13, 8, 4]\n",
      "Best fitness =  11\n",
      "Diversity =  0.09976052345908505\n",
      "Adaptive mutation value =  0.5946074229305266\n",
      "Best member =  [5, 9, 2, 12, 3, 11, 7, 4, 10, 13, 1, 14, 8, 6]\n",
      "Best fitness =  12\n",
      "Diversity =  0.1008044503671048\n",
      "Adaptive mutation value =  0.5950017645133974\n",
      "Best member =  [5, 9, 2, 12, 3, 11, 7, 4, 10, 13, 1, 14, 8, 6]\n",
      "Best fitness =  12\n",
      "Diversity =  0.09959356616045201\n",
      "Adaptive mutation value =  0.5950613101696742\n",
      "Best member =  [5, 9, 2, 12, 3, 11, 7, 4, 10, 13, 1, 14, 8, 6]\n",
      "Best fitness =  12\n",
      "Diversity =  0.10629493282692547\n",
      "Adaptive mutation value =  0.5947319175643722\n",
      "Best member =  [5, 9, 2, 12, 3, 11, 7, 4, 10, 13, 1, 14, 8, 6]\n",
      "Best fitness =  12\n",
      "Diversity =  0.09934335170665312\n",
      "Adaptive mutation value =  0.5950736160392056\n",
      "Best member =  [8, 14, 5, 9, 1, 12, 4, 6, 10, 2, 13, 11, 7, 3]\n",
      "Best fitness =  12\n",
      "Diversity =  0.10235772671744833\n",
      "Adaptive mutation value =  0.5949253990489068\n",
      "Best member =  [8, 14, 5, 9, 1, 12, 4, 6, 10, 2, 13, 11, 7, 3]\n",
      "Best fitness =  12\n",
      "Diversity =  0.10632540153866026\n",
      "Adaptive mutation value =  0.5947304207670572\n",
      "Best member =  [8, 14, 5, 9, 1, 12, 4, 6, 10, 2, 13, 11, 7, 3]\n",
      "Best fitness =  12\n",
      "Diversity =  0.10107413653874946\n",
      "Adaptive mutation value =  0.5949885042237585\n",
      "Best member =  [8, 14, 5, 9, 1, 12, 4, 6, 10, 2, 13, 11, 7, 3]\n",
      "Best fitness =  12\n",
      "Diversity =  0.10367383264103909\n",
      "Adaptive mutation value =  0.5948607091991465\n",
      "Best member =  [8, 2, 12, 9, 3, 7, 4, 10, 13, 6, 14, 11, 1, 5]\n",
      "Best fitness =  12\n",
      "Diversity =  0.10773878289554979\n",
      "Adaptive mutation value =  0.5946609956742169\n",
      "Best member =  [5, 9, 2, 12, 3, 11, 7, 4, 10, 13, 1, 14, 8, 6]\n",
      "Best fitness =  12\n",
      "Diversity =  0.10606697954574291\n",
      "Adaptive mutation value =  0.5947431161718358\n",
      "Best member =  [5, 9, 2, 12, 3, 11, 7, 4, 10, 13, 1, 14, 8, 6]\n",
      "Best fitness =  12\n",
      "Diversity =  0.106123089302271\n",
      "Adaptive mutation value =  0.5947403596418387\n",
      "Best member =  [4, 12, 10, 5, 7, 2, 1, 13, 8, 14, 11, 3, 6, 9]\n",
      "Best fitness =  12\n",
      "Diversity =  0.10629143665785064\n",
      "Adaptive mutation value =  0.5947320893166672\n",
      "Best member =  [8, 4, 12, 10, 2, 7, 5, 11, 1, 14, 9, 6, 3, 13]\n",
      "Best fitness =  12\n",
      "Diversity =  0.10471166176280632\n",
      "Adaptive mutation value =  0.5948097072600129\n",
      "Best member =  [4, 12, 10, 5, 7, 2, 13, 1, 8, 14, 11, 6, 3, 9]\n",
      "Best fitness =  12\n",
      "Diversity =  0.10319238974924522\n",
      "Adaptive mutation value =  0.5948843716718917\n",
      "Best member =  [4, 12, 10, 5, 7, 2, 13, 1, 8, 14, 11, 6, 3, 9]\n",
      "Best fitness =  12\n",
      "Diversity =  0.10324083325815775\n",
      "Adaptive mutation value =  0.5948819906330642\n",
      "Best member =  [4, 12, 10, 5, 7, 2, 13, 1, 8, 14, 11, 6, 3, 9]\n",
      "Best fitness =  12\n",
      "Diversity =  0.10100192306201192\n",
      "Adaptive mutation value =  0.5949920548544237\n",
      "Best member =  [9, 4, 12, 10, 2, 7, 1, 13, 5, 8, 14, 11, 3, 6]\n",
      "Best fitness =  12\n",
      "Diversity =  0.0978741276353467\n",
      "Adaptive mutation value =  0.5951458846437273\n",
      "Best member =  [9, 4, 12, 10, 2, 7, 1, 13, 5, 8, 14, 11, 3, 6]\n",
      "Best fitness =  12\n",
      "Diversity =  0.0991862735140919\n",
      "Adaptive mutation value =  0.59508134160735\n",
      "Best member =  [10, 8, 2, 12, 3, 7, 9, 13, 5, 14, 11, 6, 4, 1]\n",
      "Best fitness =  12\n",
      "Diversity =  0.09784639344860094\n",
      "Adaptive mutation value =  0.595147249009464\n",
      "Best member =  [10, 8, 2, 12, 3, 7, 9, 13, 5, 14, 11, 6, 4, 1]\n",
      "Best fitness =  12\n",
      "SATURATED\n",
      "Best fitness in this generation =  ([10, 8, 2, 12, 3, 7, 9, 13, 5, 14, 11, 6, 4, 1], 12)\n",
      "Best among all generations =  ([5, 9, 2, 12, 3, 11, 7, 4, 10, 13, 1, 14, 8, 6], 12)\n",
      "[([10, 8, 2, 12, 3, 7, 9, 13, 5, 14, 11, 6, 4, 1], 12), ([9, 4, 12, 10, 2, 7, 1, 13, 11, 8, 6, 14, 3, 5], 11), ([4, 12, 10, 2, 5, 7, 1, 13, 8, 14, 11, 3, 6, 9], 10), ([6, 12, 9, 4, 13, 7, 3, 2, 11, 14, 8, 10, 5, 1], 10), ([8, 5, 14, 9, 7, 10, 1, 11, 2, 6, 12, 3, 13, 4], 10), ([9, 11, 5, 8, 2, 12, 14, 1, 4, 6, 10, 13, 7, 3], 10), ([11, 9, 5, 7, 2, 4, 12, 10, 13, 3, 6, 8, 14, 1], 10), ([10, 7, 1, 8, 5, 14, 9, 6, 12, 4, 2, 13, 11, 3], 10), ([10, 8, 4, 12, 7, 2, 14, 5, 1, 13, 9, 11, 6, 3], 10), ([9, 11, 5, 2, 6, 8, 12, 14, 3, 10, 7, 13, 4, 1], 10)]\n"
     ]
    }
   ],
   "source": [
    "ga.evolve(100)\n"
   ]
  },
  {
   "cell_type": "markdown",
   "metadata": {},
   "source": [
    "- The functionality for plotting the best, worst, average fitness values across iterations is present in plot_statistics function of statistics.py module.\n",
    "- The diversity and mutation rate values over iterations can also be visualized "
   ]
  },
  {
   "cell_type": "code",
   "execution_count": 8,
   "metadata": {
    "collapsed": false
   },
   "outputs": [
    {
     "name": "stdout",
     "output_type": "stream",
     "text": [
      "best [10, 10, 9, 10, 11, 11, 10, 10, 11, 10, 10, 11, 12, 12, 12, 12, 12, 12, 12, 12, 12, 12, 12, 12, 12, 12, 12, 12, 12, 12, 12, 12]\n",
      "worst [0, 0, 0, 0, 0, 0, 0, 0, 0, 0, 0, 0, 0, 0, 0, 0, 0, 0, 0, 0, 0, 0, 1, 0, 0, 0, 0, 0, 0, 0, 1, 0]\n",
      "avg [3.96, 3.888888888888889, 4.254098360655738, 4.462837837837838, 4.654761904761905, 4.654891304347826, 4.774111675126903, 4.853365384615385, 4.881944444444445, 4.885650224215246, 5.046052631578948, 4.993534482758621, 4.968220338983051, 5.073221757322176, 5.070539419087137, 5.148148148148148, 5.036885245901639, 5.222448979591837, 5.189024390243903, 5.416161616161616, 5.272177419354839, 5.320564516129032, 5.348790322580645, 5.342741935483871, 5.13508064516129, 5.23991935483871, 5.23991935483871, 5.070564516129032, 5.155241935483871, 5.137096774193548, 5.268145161290323, 5.318548387096774]\n"
     ]
    },
    {
     "name": "stderr",
     "output_type": "stream",
     "text": [
      "C:\\Users\\Shreyas\\Anaconda3\\lib\\site-packages\\matplotlib\\legend.py:633: UserWarning: Legend does not support 'a' instances.\n",
      "A proxy artist may be used instead.\n",
      "See: http://matplotlib.org/users/legend_guide.html#using-proxy-artist\n",
      "  \"#using-proxy-artist\".format(orig_handle)\n",
      "C:\\Users\\Shreyas\\Anaconda3\\lib\\site-packages\\matplotlib\\legend.py:633: UserWarning: Legend does not support 'v' instances.\n",
      "A proxy artist may be used instead.\n",
      "See: http://matplotlib.org/users/legend_guide.html#using-proxy-artist\n",
      "  \"#using-proxy-artist\".format(orig_handle)\n",
      "C:\\Users\\Shreyas\\Anaconda3\\lib\\site-packages\\matplotlib\\legend.py:633: UserWarning: Legend does not support 'g' instances.\n",
      "A proxy artist may be used instead.\n",
      "See: http://matplotlib.org/users/legend_guide.html#using-proxy-artist\n",
      "  \"#using-proxy-artist\".format(orig_handle)\n"
     ]
    },
    {
     "data": {
      "image/png": "[encoded data removed]",
      "text/plain": [
       "<matplotlib.figure.Figure at 0x1b26772b588>"
      ]
     },
     "metadata": {},
     "output_type": "display_data"
    },
    {
     "name": "stdout",
     "output_type": "stream",
     "text": [
      "diversity [0.17254567626614306, 0.12733632189230076, 0.10352579295301559, 0.10231523725809065, 0.10064948737997452, 0.09815481867479993, 0.10000363731364795, 0.1001474327337953, 0.09467709511449247, 0.09391792407358406, 0.09508165816599201, 0.09976052345908505, 0.1008044503671048, 0.09959356616045201, 0.10629493282692547, 0.09934335170665312, 0.10235772671744833, 0.10632540153866026, 0.10107413653874946, 0.10367383264103909, 0.10773878289554979, 0.10606697954574291, 0.106123089302271, 0.10629143665785064, 0.10471166176280632, 0.10319238974924522, 0.10324083325815775, 0.10100192306201192, 0.0978741276353467, 0.0991862735140919, 0.09784639344860094, 0.09784639344860094]\n",
      "mutation_rate [0.589822861547702, 0.5924558846761885, 0.5931767672015722, 0.5939232600732506, 0.5945598054873599, 0.5946934520046718, 0.5940591920020191, 0.5940507344035855, 0.5948798638678984, 0.5944173555929402, 0.594348832745355, 0.5946074229305266, 0.5950017645133974, 0.5950613101696742, 0.5947319175643722, 0.5950736160392056, 0.5949253990489068, 0.5947304207670572, 0.5949885042237585, 0.5948607091991465, 0.5946609956742169, 0.5947431161718358, 0.5947403596418387, 0.5947320893166672, 0.5948097072600129, 0.5948843716718917, 0.5948819906330642, 0.5949920548544237, 0.5951458846437273, 0.59508134160735, 0.595147249009464, 0.595147249009464]\n"
     ]
    },
    {
     "name": "stderr",
     "output_type": "stream",
     "text": [
      "C:\\Users\\Shreyas\\Anaconda3\\lib\\site-packages\\matplotlib\\legend.py:633: UserWarning: Legend does not support 'm' instances.\n",
      "A proxy artist may be used instead.\n",
      "See: http://matplotlib.org/users/legend_guide.html#using-proxy-artist\n",
      "  \"#using-proxy-artist\".format(orig_handle)\n",
      "C:\\Users\\Shreyas\\Anaconda3\\lib\\site-packages\\matplotlib\\legend.py:633: UserWarning: Legend does not support 'u' instances.\n",
      "A proxy artist may be used instead.\n",
      "See: http://matplotlib.org/users/legend_guide.html#using-proxy-artist\n",
      "  \"#using-proxy-artist\".format(orig_handle)\n",
      "C:\\Users\\Shreyas\\Anaconda3\\lib\\site-packages\\matplotlib\\legend.py:633: UserWarning: Legend does not support 't' instances.\n",
      "A proxy artist may be used instead.\n",
      "See: http://matplotlib.org/users/legend_guide.html#using-proxy-artist\n",
      "  \"#using-proxy-artist\".format(orig_handle)\n",
      "C:\\Users\\Shreyas\\Anaconda3\\lib\\site-packages\\matplotlib\\legend.py:633: UserWarning: Legend does not support 'i' instances.\n",
      "A proxy artist may be used instead.\n",
      "See: http://matplotlib.org/users/legend_guide.html#using-proxy-artist\n",
      "  \"#using-proxy-artist\".format(orig_handle)\n",
      "C:\\Users\\Shreyas\\Anaconda3\\lib\\site-packages\\matplotlib\\legend.py:633: UserWarning: Legend does not support 'o' instances.\n",
      "A proxy artist may be used instead.\n",
      "See: http://matplotlib.org/users/legend_guide.html#using-proxy-artist\n",
      "  \"#using-proxy-artist\".format(orig_handle)\n",
      "C:\\Users\\Shreyas\\Anaconda3\\lib\\site-packages\\matplotlib\\legend.py:633: UserWarning: Legend does not support 'n' instances.\n",
      "A proxy artist may be used instead.\n",
      "See: http://matplotlib.org/users/legend_guide.html#using-proxy-artist\n",
      "  \"#using-proxy-artist\".format(orig_handle)\n",
      "C:\\Users\\Shreyas\\Anaconda3\\lib\\site-packages\\matplotlib\\legend.py:633: UserWarning: Legend does not support '_' instances.\n",
      "A proxy artist may be used instead.\n",
      "See: http://matplotlib.org/users/legend_guide.html#using-proxy-artist\n",
      "  \"#using-proxy-artist\".format(orig_handle)\n",
      "C:\\Users\\Shreyas\\Anaconda3\\lib\\site-packages\\matplotlib\\legend.py:633: UserWarning: Legend does not support 'r' instances.\n",
      "A proxy artist may be used instead.\n",
      "See: http://matplotlib.org/users/legend_guide.html#using-proxy-artist\n",
      "  \"#using-proxy-artist\".format(orig_handle)\n",
      "C:\\Users\\Shreyas\\Anaconda3\\lib\\site-packages\\matplotlib\\legend.py:633: UserWarning: Legend does not support 'e' instances.\n",
      "A proxy artist may be used instead.\n",
      "See: http://matplotlib.org/users/legend_guide.html#using-proxy-artist\n",
      "  \"#using-proxy-artist\".format(orig_handle)\n"
     ]
    },
    {
     "data": {
      "image/png": "[encoded data removed]",
      "text/plain": [
       "<matplotlib.figure.Figure at 0x1b2678d5b38>"
      ]
     },
     "metadata": {},
     "output_type": "display_data"
    }
   ],
   "source": [
    "fig = ga.statistics.plot_statistics(['best','worst','avg'])\n",
    "plt.show()\n",
    "fig = ga.statistics.plot_statistics(['diversity','mutation_rate'])\n",
    "plt.show()"
   ]
  }
 ],
 "metadata": {
  "anaconda-cloud": {},
  "kernelspec": {
   "display_name": "Python [default]",
   "language": "python",
   "name": "python3"
  },
  "language_info": {
   "codemirror_mode": {
    "name": "ipython",
    "version": 3
   },
   "file_extension": ".py",
   "mimetype": "text/x-python",
   "name": "python",
   "nbconvert_exporter": "python",
   "pygments_lexer": "ipython3",
   "version": "3.5.2"
  }
 },
 "nbformat": 4,
 "nbformat_minor": 1
}
